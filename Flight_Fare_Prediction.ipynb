{
 "cells": [
  {
   "cell_type": "code",
   "execution_count": 238,
   "metadata": {},
   "outputs": [],
   "source": [
    "import pandas as pd\n",
    "import numpy as np\n",
    "import seaborn as sns\n",
    "import matplotlib.pyplot as plt\n",
    "%matplotlib inline\n",
    "\n",
    "sns.set_theme(context='notebook', style='darkgrid')\n",
    "plt.rcParams['figure.figsize'] = (12,6) #plt.figure(figsize=(12,6))"
   ]
  },
  {
   "cell_type": "markdown",
   "metadata": {},
   "source": [
    "# Import Datasets and Checking Size"
   ]
  },
  {
   "cell_type": "markdown",
   "metadata": {},
   "source": [
    "Use Training dataset for training and testing (Test_set.xlsx doesn't contain price, thus cannot be used for validation)"
   ]
  },
  {
   "cell_type": "code",
   "execution_count": 239,
   "metadata": {},
   "outputs": [
    {
     "data": {
      "text/html": [
       "<div>\n",
       "<style scoped>\n",
       "    .dataframe tbody tr th:only-of-type {\n",
       "        vertical-align: middle;\n",
       "    }\n",
       "\n",
       "    .dataframe tbody tr th {\n",
       "        vertical-align: top;\n",
       "    }\n",
       "\n",
       "    .dataframe thead th {\n",
       "        text-align: right;\n",
       "    }\n",
       "</style>\n",
       "<table border=\"1\" class=\"dataframe\">\n",
       "  <thead>\n",
       "    <tr style=\"text-align: right;\">\n",
       "      <th></th>\n",
       "      <th>Airline</th>\n",
       "      <th>Date_of_Journey</th>\n",
       "      <th>Source</th>\n",
       "      <th>Destination</th>\n",
       "      <th>Route</th>\n",
       "      <th>Dep_Time</th>\n",
       "      <th>Arrival_Time</th>\n",
       "      <th>Duration</th>\n",
       "      <th>Total_Stops</th>\n",
       "      <th>Additional_Info</th>\n",
       "      <th>Price</th>\n",
       "    </tr>\n",
       "  </thead>\n",
       "  <tbody>\n",
       "    <tr>\n",
       "      <th>0</th>\n",
       "      <td>IndiGo</td>\n",
       "      <td>24/03/2019</td>\n",
       "      <td>Banglore</td>\n",
       "      <td>New Delhi</td>\n",
       "      <td>BLR → DEL</td>\n",
       "      <td>22:20</td>\n",
       "      <td>01:10 22 Mar</td>\n",
       "      <td>2h 50m</td>\n",
       "      <td>non-stop</td>\n",
       "      <td>No info</td>\n",
       "      <td>3897</td>\n",
       "    </tr>\n",
       "    <tr>\n",
       "      <th>1</th>\n",
       "      <td>Air India</td>\n",
       "      <td>1/05/2019</td>\n",
       "      <td>Kolkata</td>\n",
       "      <td>Banglore</td>\n",
       "      <td>CCU → IXR → BBI → BLR</td>\n",
       "      <td>05:50</td>\n",
       "      <td>13:15</td>\n",
       "      <td>7h 25m</td>\n",
       "      <td>2 stops</td>\n",
       "      <td>No info</td>\n",
       "      <td>7662</td>\n",
       "    </tr>\n",
       "    <tr>\n",
       "      <th>2</th>\n",
       "      <td>Jet Airways</td>\n",
       "      <td>9/06/2019</td>\n",
       "      <td>Delhi</td>\n",
       "      <td>Cochin</td>\n",
       "      <td>DEL → LKO → BOM → COK</td>\n",
       "      <td>09:25</td>\n",
       "      <td>04:25 10 Jun</td>\n",
       "      <td>19h</td>\n",
       "      <td>2 stops</td>\n",
       "      <td>No info</td>\n",
       "      <td>13882</td>\n",
       "    </tr>\n",
       "    <tr>\n",
       "      <th>3</th>\n",
       "      <td>IndiGo</td>\n",
       "      <td>12/05/2019</td>\n",
       "      <td>Kolkata</td>\n",
       "      <td>Banglore</td>\n",
       "      <td>CCU → NAG → BLR</td>\n",
       "      <td>18:05</td>\n",
       "      <td>23:30</td>\n",
       "      <td>5h 25m</td>\n",
       "      <td>1 stop</td>\n",
       "      <td>No info</td>\n",
       "      <td>6218</td>\n",
       "    </tr>\n",
       "    <tr>\n",
       "      <th>4</th>\n",
       "      <td>IndiGo</td>\n",
       "      <td>01/03/2019</td>\n",
       "      <td>Banglore</td>\n",
       "      <td>New Delhi</td>\n",
       "      <td>BLR → NAG → DEL</td>\n",
       "      <td>16:50</td>\n",
       "      <td>21:35</td>\n",
       "      <td>4h 45m</td>\n",
       "      <td>1 stop</td>\n",
       "      <td>No info</td>\n",
       "      <td>13302</td>\n",
       "    </tr>\n",
       "  </tbody>\n",
       "</table>\n",
       "</div>"
      ],
      "text/plain": [
       "       Airline Date_of_Journey    Source Destination                  Route  \\\n",
       "0       IndiGo      24/03/2019  Banglore   New Delhi              BLR → DEL   \n",
       "1    Air India       1/05/2019   Kolkata    Banglore  CCU → IXR → BBI → BLR   \n",
       "2  Jet Airways       9/06/2019     Delhi      Cochin  DEL → LKO → BOM → COK   \n",
       "3       IndiGo      12/05/2019   Kolkata    Banglore        CCU → NAG → BLR   \n",
       "4       IndiGo      01/03/2019  Banglore   New Delhi        BLR → NAG → DEL   \n",
       "\n",
       "  Dep_Time  Arrival_Time Duration Total_Stops Additional_Info  Price  \n",
       "0    22:20  01:10 22 Mar   2h 50m    non-stop         No info   3897  \n",
       "1    05:50         13:15   7h 25m     2 stops         No info   7662  \n",
       "2    09:25  04:25 10 Jun      19h     2 stops         No info  13882  \n",
       "3    18:05         23:30   5h 25m      1 stop         No info   6218  \n",
       "4    16:50         21:35   4h 45m      1 stop         No info  13302  "
      ]
     },
     "execution_count": 239,
     "metadata": {},
     "output_type": "execute_result"
    }
   ],
   "source": [
    "train = pd.read_excel('Data_Train.xlsx')\n",
    "train.head()"
   ]
  },
  {
   "cell_type": "code",
   "execution_count": 240,
   "metadata": {},
   "outputs": [
    {
     "data": {
      "text/html": [
       "<div>\n",
       "<style scoped>\n",
       "    .dataframe tbody tr th:only-of-type {\n",
       "        vertical-align: middle;\n",
       "    }\n",
       "\n",
       "    .dataframe tbody tr th {\n",
       "        vertical-align: top;\n",
       "    }\n",
       "\n",
       "    .dataframe thead th {\n",
       "        text-align: right;\n",
       "    }\n",
       "</style>\n",
       "<table border=\"1\" class=\"dataframe\">\n",
       "  <thead>\n",
       "    <tr style=\"text-align: right;\">\n",
       "      <th></th>\n",
       "      <th>Airline</th>\n",
       "      <th>Date_of_Journey</th>\n",
       "      <th>Source</th>\n",
       "      <th>Destination</th>\n",
       "      <th>Route</th>\n",
       "      <th>Dep_Time</th>\n",
       "      <th>Arrival_Time</th>\n",
       "      <th>Duration</th>\n",
       "      <th>Total_Stops</th>\n",
       "      <th>Additional_Info</th>\n",
       "    </tr>\n",
       "  </thead>\n",
       "  <tbody>\n",
       "    <tr>\n",
       "      <th>0</th>\n",
       "      <td>Jet Airways</td>\n",
       "      <td>6/06/2019</td>\n",
       "      <td>Delhi</td>\n",
       "      <td>Cochin</td>\n",
       "      <td>DEL → BOM → COK</td>\n",
       "      <td>17:30</td>\n",
       "      <td>04:25 07 Jun</td>\n",
       "      <td>10h 55m</td>\n",
       "      <td>1 stop</td>\n",
       "      <td>No info</td>\n",
       "    </tr>\n",
       "    <tr>\n",
       "      <th>1</th>\n",
       "      <td>IndiGo</td>\n",
       "      <td>12/05/2019</td>\n",
       "      <td>Kolkata</td>\n",
       "      <td>Banglore</td>\n",
       "      <td>CCU → MAA → BLR</td>\n",
       "      <td>06:20</td>\n",
       "      <td>10:20</td>\n",
       "      <td>4h</td>\n",
       "      <td>1 stop</td>\n",
       "      <td>No info</td>\n",
       "    </tr>\n",
       "    <tr>\n",
       "      <th>2</th>\n",
       "      <td>Jet Airways</td>\n",
       "      <td>21/05/2019</td>\n",
       "      <td>Delhi</td>\n",
       "      <td>Cochin</td>\n",
       "      <td>DEL → BOM → COK</td>\n",
       "      <td>19:15</td>\n",
       "      <td>19:00 22 May</td>\n",
       "      <td>23h 45m</td>\n",
       "      <td>1 stop</td>\n",
       "      <td>In-flight meal not included</td>\n",
       "    </tr>\n",
       "    <tr>\n",
       "      <th>3</th>\n",
       "      <td>Multiple carriers</td>\n",
       "      <td>21/05/2019</td>\n",
       "      <td>Delhi</td>\n",
       "      <td>Cochin</td>\n",
       "      <td>DEL → BOM → COK</td>\n",
       "      <td>08:00</td>\n",
       "      <td>21:00</td>\n",
       "      <td>13h</td>\n",
       "      <td>1 stop</td>\n",
       "      <td>No info</td>\n",
       "    </tr>\n",
       "    <tr>\n",
       "      <th>4</th>\n",
       "      <td>Air Asia</td>\n",
       "      <td>24/06/2019</td>\n",
       "      <td>Banglore</td>\n",
       "      <td>Delhi</td>\n",
       "      <td>BLR → DEL</td>\n",
       "      <td>23:55</td>\n",
       "      <td>02:45 25 Jun</td>\n",
       "      <td>2h 50m</td>\n",
       "      <td>non-stop</td>\n",
       "      <td>No info</td>\n",
       "    </tr>\n",
       "  </tbody>\n",
       "</table>\n",
       "</div>"
      ],
      "text/plain": [
       "             Airline Date_of_Journey    Source Destination            Route  \\\n",
       "0        Jet Airways       6/06/2019     Delhi      Cochin  DEL → BOM → COK   \n",
       "1             IndiGo      12/05/2019   Kolkata    Banglore  CCU → MAA → BLR   \n",
       "2        Jet Airways      21/05/2019     Delhi      Cochin  DEL → BOM → COK   \n",
       "3  Multiple carriers      21/05/2019     Delhi      Cochin  DEL → BOM → COK   \n",
       "4           Air Asia      24/06/2019  Banglore       Delhi        BLR → DEL   \n",
       "\n",
       "  Dep_Time  Arrival_Time Duration Total_Stops              Additional_Info  \n",
       "0    17:30  04:25 07 Jun  10h 55m      1 stop                      No info  \n",
       "1    06:20         10:20       4h      1 stop                      No info  \n",
       "2    19:15  19:00 22 May  23h 45m      1 stop  In-flight meal not included  \n",
       "3    08:00         21:00      13h      1 stop                      No info  \n",
       "4    23:55  02:45 25 Jun   2h 50m    non-stop                      No info  "
      ]
     },
     "execution_count": 240,
     "metadata": {},
     "output_type": "execute_result"
    }
   ],
   "source": [
    "test = pd.read_excel('Test_set.xlsx')\n",
    "test.head()"
   ]
  },
  {
   "cell_type": "markdown",
   "metadata": {},
   "source": [
    "## Basic EDA"
   ]
  },
  {
   "cell_type": "code",
   "execution_count": 241,
   "metadata": {},
   "outputs": [
    {
     "name": "stdout",
     "output_type": "stream",
     "text": [
      "Train Size: (10683, 11)\n",
      "Test  Size: (2671, 10)\n"
     ]
    }
   ],
   "source": [
    "print(f'Train Size: {train.shape}')\n",
    "print(f'Test  Size: {test.shape}')"
   ]
  },
  {
   "cell_type": "code",
   "execution_count": 242,
   "metadata": {},
   "outputs": [
    {
     "data": {
      "text/plain": [
       "Airline            0\n",
       "Date_of_Journey    0\n",
       "Source             0\n",
       "Destination        0\n",
       "Route              1\n",
       "Dep_Time           0\n",
       "Arrival_Time       0\n",
       "Duration           0\n",
       "Total_Stops        1\n",
       "Additional_Info    0\n",
       "Price              0\n",
       "dtype: int64"
      ]
     },
     "execution_count": 242,
     "metadata": {},
     "output_type": "execute_result"
    }
   ],
   "source": [
    "train.isnull().sum()"
   ]
  },
  {
   "cell_type": "code",
   "execution_count": 243,
   "metadata": {},
   "outputs": [
    {
     "data": {
      "text/html": [
       "<div>\n",
       "<style scoped>\n",
       "    .dataframe tbody tr th:only-of-type {\n",
       "        vertical-align: middle;\n",
       "    }\n",
       "\n",
       "    .dataframe tbody tr th {\n",
       "        vertical-align: top;\n",
       "    }\n",
       "\n",
       "    .dataframe thead th {\n",
       "        text-align: right;\n",
       "    }\n",
       "</style>\n",
       "<table border=\"1\" class=\"dataframe\">\n",
       "  <thead>\n",
       "    <tr style=\"text-align: right;\">\n",
       "      <th></th>\n",
       "      <th>Airline</th>\n",
       "      <th>Date_of_Journey</th>\n",
       "      <th>Source</th>\n",
       "      <th>Destination</th>\n",
       "      <th>Route</th>\n",
       "      <th>Dep_Time</th>\n",
       "      <th>Arrival_Time</th>\n",
       "      <th>Duration</th>\n",
       "      <th>Total_Stops</th>\n",
       "      <th>Additional_Info</th>\n",
       "      <th>Price</th>\n",
       "    </tr>\n",
       "  </thead>\n",
       "  <tbody>\n",
       "    <tr>\n",
       "      <th>9039</th>\n",
       "      <td>Air India</td>\n",
       "      <td>6/05/2019</td>\n",
       "      <td>Delhi</td>\n",
       "      <td>Cochin</td>\n",
       "      <td>NaN</td>\n",
       "      <td>09:45</td>\n",
       "      <td>09:25 07 May</td>\n",
       "      <td>23h 40m</td>\n",
       "      <td>NaN</td>\n",
       "      <td>No info</td>\n",
       "      <td>7480</td>\n",
       "    </tr>\n",
       "  </tbody>\n",
       "</table>\n",
       "</div>"
      ],
      "text/plain": [
       "        Airline Date_of_Journey Source Destination Route Dep_Time  \\\n",
       "9039  Air India       6/05/2019  Delhi      Cochin   NaN    09:45   \n",
       "\n",
       "      Arrival_Time Duration Total_Stops Additional_Info  Price  \n",
       "9039  09:25 07 May  23h 40m         NaN         No info   7480  "
      ]
     },
     "execution_count": 243,
     "metadata": {},
     "output_type": "execute_result"
    }
   ],
   "source": [
    "train[train.isna().any(axis=1)]"
   ]
  },
  {
   "cell_type": "markdown",
   "metadata": {},
   "source": [
    "Dropping Null rows"
   ]
  },
  {
   "cell_type": "code",
   "execution_count": 244,
   "metadata": {},
   "outputs": [],
   "source": [
    "train.dropna(inplace=True)"
   ]
  },
  {
   "cell_type": "code",
   "execution_count": 245,
   "metadata": {},
   "outputs": [
    {
     "data": {
      "text/plain": [
       "Airline            0\n",
       "Date_of_Journey    0\n",
       "Source             0\n",
       "Destination        0\n",
       "Route              0\n",
       "Dep_Time           0\n",
       "Arrival_Time       0\n",
       "Duration           0\n",
       "Total_Stops        0\n",
       "Additional_Info    0\n",
       "dtype: int64"
      ]
     },
     "execution_count": 245,
     "metadata": {},
     "output_type": "execute_result"
    }
   ],
   "source": [
    "test.isna().sum()"
   ]
  },
  {
   "cell_type": "markdown",
   "metadata": {},
   "source": [
    "### Splitting data into df_train and df_test"
   ]
  },
  {
   "cell_type": "code",
   "execution_count": 246,
   "metadata": {},
   "outputs": [],
   "source": [
    "from sklearn.model_selection import train_test_split\n",
    "\n",
    "df_train, df_test, y_train, y_test = train_test_split(train.drop(columns='Price'), train['Price'], test_size=0.2, random_state=42)"
   ]
  },
  {
   "cell_type": "code",
   "execution_count": 247,
   "metadata": {},
   "outputs": [
    {
     "name": "stdout",
     "output_type": "stream",
     "text": [
      "Train set size: (8545, 10), Train target variable size: 8545\n",
      "Test set size: (2137, 10), Test target variable size: 2137\n"
     ]
    }
   ],
   "source": [
    "print(f'Train set size: {df_train.shape}, Train target variable size: {y_train.shape[0]}')\n",
    "print(f'Test set size: {df_test.shape}, Test target variable size: {y_test.shape[0]}')"
   ]
  },
  {
   "cell_type": "code",
   "execution_count": 248,
   "metadata": {},
   "outputs": [
    {
     "data": {
      "text/plain": [
       "(Index(['Airline', 'Date_of_Journey', 'Source', 'Destination', 'Route',\n",
       "        'Dep_Time', 'Arrival_Time', 'Duration', 'Total_Stops',\n",
       "        'Additional_Info'],\n",
       "       dtype='object'),\n",
       " Index(['Airline', 'Date_of_Journey', 'Source', 'Destination', 'Route',\n",
       "        'Dep_Time', 'Arrival_Time', 'Duration', 'Total_Stops',\n",
       "        'Additional_Info'],\n",
       "       dtype='object'))"
      ]
     },
     "execution_count": 248,
     "metadata": {},
     "output_type": "execute_result"
    }
   ],
   "source": [
    "df_test.columns, df_train.columns"
   ]
  },
  {
   "cell_type": "markdown",
   "metadata": {},
   "source": [
    "# Feature Engineering"
   ]
  },
  {
   "cell_type": "code",
   "execution_count": 249,
   "metadata": {},
   "outputs": [],
   "source": [
    "# https://www.codegrepper.com/code-examples/python/pandas+datetime+series+get+day+week+month+year\n",
    "# df_train['Date_of_Journey'] = pd.to_datetime(df_train['Date_of_Journey'], format='%d/%m/%Y')\n",
    "# df_train['Date_of_Journey'].dt.dayofweek        # monday=0 sunday=6\n",
    "# df_train['Date_of_Journey'].dt.day_name()       \n",
    "# df_train['Date_of_Journey'].dt.month            # Jan=1 Dec=12\n",
    "# df_train['Date_of_Journey'].dt.month_name()\n",
    "\n",
    "# df_train['Journey_Date']  = df_train['Date_of_Journey'].apply(lambda x: x.split(\"/\")[0]).astype(int)\n",
    "# df_train['Journey_Month'] = df_train['Date_of_Journey'].apply(lambda x: x.split(\"/\")[1]).astype(int)"
   ]
  },
  {
   "cell_type": "markdown",
   "metadata": {},
   "source": [
    "## Exploring Date/Time Columns"
   ]
  },
  {
   "cell_type": "code",
   "execution_count": 250,
   "metadata": {},
   "outputs": [
    {
     "data": {
      "text/html": [
       "<div>\n",
       "<style scoped>\n",
       "    .dataframe tbody tr th:only-of-type {\n",
       "        vertical-align: middle;\n",
       "    }\n",
       "\n",
       "    .dataframe tbody tr th {\n",
       "        vertical-align: top;\n",
       "    }\n",
       "\n",
       "    .dataframe thead th {\n",
       "        text-align: right;\n",
       "    }\n",
       "</style>\n",
       "<table border=\"1\" class=\"dataframe\">\n",
       "  <thead>\n",
       "    <tr style=\"text-align: right;\">\n",
       "      <th></th>\n",
       "      <th>Airline</th>\n",
       "      <th>Date_of_Journey</th>\n",
       "      <th>Source</th>\n",
       "      <th>Destination</th>\n",
       "      <th>Route</th>\n",
       "      <th>Dep_Time</th>\n",
       "      <th>Arrival_Time</th>\n",
       "      <th>Duration</th>\n",
       "      <th>Total_Stops</th>\n",
       "      <th>Additional_Info</th>\n",
       "    </tr>\n",
       "  </thead>\n",
       "  <tbody>\n",
       "    <tr>\n",
       "      <th>10005</th>\n",
       "      <td>Multiple carriers</td>\n",
       "      <td>2019-05-27</td>\n",
       "      <td>Delhi</td>\n",
       "      <td>Cochin</td>\n",
       "      <td>DEL → BOM → COK</td>\n",
       "      <td>08:30</td>\n",
       "      <td>19:15</td>\n",
       "      <td>10h 45m</td>\n",
       "      <td>1 stop</td>\n",
       "      <td>No info</td>\n",
       "    </tr>\n",
       "    <tr>\n",
       "      <th>3684</th>\n",
       "      <td>Jet Airways</td>\n",
       "      <td>2019-05-09</td>\n",
       "      <td>Delhi</td>\n",
       "      <td>Cochin</td>\n",
       "      <td>DEL → BOM → COK</td>\n",
       "      <td>11:30</td>\n",
       "      <td>12:35 10 May</td>\n",
       "      <td>25h 5m</td>\n",
       "      <td>1 stop</td>\n",
       "      <td>In-flight meal not included</td>\n",
       "    </tr>\n",
       "    <tr>\n",
       "      <th>1034</th>\n",
       "      <td>SpiceJet</td>\n",
       "      <td>2019-04-24</td>\n",
       "      <td>Delhi</td>\n",
       "      <td>Cochin</td>\n",
       "      <td>DEL → MAA → COK</td>\n",
       "      <td>15:45</td>\n",
       "      <td>22:05</td>\n",
       "      <td>6h 20m</td>\n",
       "      <td>1 stop</td>\n",
       "      <td>No info</td>\n",
       "    </tr>\n",
       "    <tr>\n",
       "      <th>3909</th>\n",
       "      <td>Multiple carriers</td>\n",
       "      <td>2019-03-21</td>\n",
       "      <td>Delhi</td>\n",
       "      <td>Cochin</td>\n",
       "      <td>DEL → BOM → COK</td>\n",
       "      <td>12:50</td>\n",
       "      <td>01:35 22 Mar</td>\n",
       "      <td>12h 45m</td>\n",
       "      <td>1 stop</td>\n",
       "      <td>No info</td>\n",
       "    </tr>\n",
       "    <tr>\n",
       "      <th>3088</th>\n",
       "      <td>Air India</td>\n",
       "      <td>2019-06-24</td>\n",
       "      <td>Delhi</td>\n",
       "      <td>Cochin</td>\n",
       "      <td>DEL → HYD → BOM → COK</td>\n",
       "      <td>17:15</td>\n",
       "      <td>19:15 25 Jun</td>\n",
       "      <td>26h</td>\n",
       "      <td>2 stops</td>\n",
       "      <td>No info</td>\n",
       "    </tr>\n",
       "  </tbody>\n",
       "</table>\n",
       "</div>"
      ],
      "text/plain": [
       "                 Airline Date_of_Journey Source Destination  \\\n",
       "10005  Multiple carriers      2019-05-27  Delhi      Cochin   \n",
       "3684         Jet Airways      2019-05-09  Delhi      Cochin   \n",
       "1034            SpiceJet      2019-04-24  Delhi      Cochin   \n",
       "3909   Multiple carriers      2019-03-21  Delhi      Cochin   \n",
       "3088           Air India      2019-06-24  Delhi      Cochin   \n",
       "\n",
       "                       Route Dep_Time  Arrival_Time Duration Total_Stops  \\\n",
       "10005        DEL → BOM → COK    08:30         19:15  10h 45m      1 stop   \n",
       "3684         DEL → BOM → COK    11:30  12:35 10 May   25h 5m      1 stop   \n",
       "1034         DEL → MAA → COK    15:45         22:05   6h 20m      1 stop   \n",
       "3909         DEL → BOM → COK    12:50  01:35 22 Mar  12h 45m      1 stop   \n",
       "3088   DEL → HYD → BOM → COK    17:15  19:15 25 Jun      26h     2 stops   \n",
       "\n",
       "                   Additional_Info  \n",
       "10005                      No info  \n",
       "3684   In-flight meal not included  \n",
       "1034                       No info  \n",
       "3909                       No info  \n",
       "3088                       No info  "
      ]
     },
     "execution_count": 250,
     "metadata": {},
     "output_type": "execute_result"
    }
   ],
   "source": [
    "drop_cols = []\n",
    "\n",
    "df_train['Date_of_Journey'] = pd.to_datetime(df_train['Date_of_Journey'], format='%d/%m/%Y')\n",
    "df_train.head(5)"
   ]
  },
  {
   "cell_type": "code",
   "execution_count": 251,
   "metadata": {},
   "outputs": [
    {
     "data": {
      "text/plain": [
       "2019    8545\n",
       "Name: Date_of_Journey, dtype: int64"
      ]
     },
     "execution_count": 251,
     "metadata": {},
     "output_type": "execute_result"
    }
   ],
   "source": [
    "df_train['Date_of_Journey'].dt.year.value_counts()"
   ]
  },
  {
   "cell_type": "code",
   "execution_count": 252,
   "metadata": {},
   "outputs": [],
   "source": [
    "df_train['Monthday'] = df_train['Date_of_Journey'].dt.day\n",
    "df_train['Weekday'] = df_train['Date_of_Journey'].dt.dayofweek      # Monday=0 Sunday=6\n",
    "df_train['Month'] = df_train['Date_of_Journey'].dt.month - 1           # original: Jan=1 Dec=12, after -1: Jan=0 Dec=11\n",
    "\n",
    "drop_cols.append('Date_of_Journey')"
   ]
  },
  {
   "cell_type": "code",
   "execution_count": 253,
   "metadata": {},
   "outputs": [],
   "source": [
    "df_train['wkday_sin'] = np.sin(df_train['Weekday']*(2.*np.pi/7))\n",
    "df_train['wkday_cos'] = np.cos(df_train['Weekday']*(2.*np.pi/7))\n",
    "df_train['mnth_sin'] = np.sin(df_train['Month']*(2.*np.pi/12))\n",
    "df_train['mnth_cos'] = np.cos(df_train['Month']*(2.*np.pi/12))"
   ]
  },
  {
   "cell_type": "code",
   "execution_count": 254,
   "metadata": {},
   "outputs": [
    {
     "data": {
      "text/html": [
       "<div>\n",
       "<style scoped>\n",
       "    .dataframe tbody tr th:only-of-type {\n",
       "        vertical-align: middle;\n",
       "    }\n",
       "\n",
       "    .dataframe tbody tr th {\n",
       "        vertical-align: top;\n",
       "    }\n",
       "\n",
       "    .dataframe thead th {\n",
       "        text-align: right;\n",
       "    }\n",
       "</style>\n",
       "<table border=\"1\" class=\"dataframe\">\n",
       "  <thead>\n",
       "    <tr style=\"text-align: right;\">\n",
       "      <th></th>\n",
       "      <th>Airline</th>\n",
       "      <th>Date_of_Journey</th>\n",
       "      <th>Source</th>\n",
       "      <th>Destination</th>\n",
       "      <th>Route</th>\n",
       "      <th>Dep_Time</th>\n",
       "      <th>Arrival_Time</th>\n",
       "      <th>Duration</th>\n",
       "      <th>Total_Stops</th>\n",
       "      <th>Additional_Info</th>\n",
       "      <th>Monthday</th>\n",
       "      <th>Weekday</th>\n",
       "      <th>Month</th>\n",
       "      <th>wkday_sin</th>\n",
       "      <th>wkday_cos</th>\n",
       "      <th>mnth_sin</th>\n",
       "      <th>mnth_cos</th>\n",
       "    </tr>\n",
       "  </thead>\n",
       "  <tbody>\n",
       "    <tr>\n",
       "      <th>10005</th>\n",
       "      <td>Multiple carriers</td>\n",
       "      <td>2019-05-27</td>\n",
       "      <td>Delhi</td>\n",
       "      <td>Cochin</td>\n",
       "      <td>DEL → BOM → COK</td>\n",
       "      <td>08:30</td>\n",
       "      <td>19:15</td>\n",
       "      <td>10h 45m</td>\n",
       "      <td>1 stop</td>\n",
       "      <td>No info</td>\n",
       "      <td>27</td>\n",
       "      <td>0</td>\n",
       "      <td>4</td>\n",
       "      <td>0.000000</td>\n",
       "      <td>1.000000</td>\n",
       "      <td>0.866025</td>\n",
       "      <td>-5.000000e-01</td>\n",
       "    </tr>\n",
       "    <tr>\n",
       "      <th>3684</th>\n",
       "      <td>Jet Airways</td>\n",
       "      <td>2019-05-09</td>\n",
       "      <td>Delhi</td>\n",
       "      <td>Cochin</td>\n",
       "      <td>DEL → BOM → COK</td>\n",
       "      <td>11:30</td>\n",
       "      <td>12:35 10 May</td>\n",
       "      <td>25h 5m</td>\n",
       "      <td>1 stop</td>\n",
       "      <td>In-flight meal not included</td>\n",
       "      <td>9</td>\n",
       "      <td>3</td>\n",
       "      <td>4</td>\n",
       "      <td>0.433884</td>\n",
       "      <td>-0.900969</td>\n",
       "      <td>0.866025</td>\n",
       "      <td>-5.000000e-01</td>\n",
       "    </tr>\n",
       "    <tr>\n",
       "      <th>1034</th>\n",
       "      <td>SpiceJet</td>\n",
       "      <td>2019-04-24</td>\n",
       "      <td>Delhi</td>\n",
       "      <td>Cochin</td>\n",
       "      <td>DEL → MAA → COK</td>\n",
       "      <td>15:45</td>\n",
       "      <td>22:05</td>\n",
       "      <td>6h 20m</td>\n",
       "      <td>1 stop</td>\n",
       "      <td>No info</td>\n",
       "      <td>24</td>\n",
       "      <td>2</td>\n",
       "      <td>3</td>\n",
       "      <td>0.974928</td>\n",
       "      <td>-0.222521</td>\n",
       "      <td>1.000000</td>\n",
       "      <td>6.123234e-17</td>\n",
       "    </tr>\n",
       "  </tbody>\n",
       "</table>\n",
       "</div>"
      ],
      "text/plain": [
       "                 Airline Date_of_Journey Source Destination            Route  \\\n",
       "10005  Multiple carriers      2019-05-27  Delhi      Cochin  DEL → BOM → COK   \n",
       "3684         Jet Airways      2019-05-09  Delhi      Cochin  DEL → BOM → COK   \n",
       "1034            SpiceJet      2019-04-24  Delhi      Cochin  DEL → MAA → COK   \n",
       "\n",
       "      Dep_Time  Arrival_Time Duration Total_Stops  \\\n",
       "10005    08:30         19:15  10h 45m      1 stop   \n",
       "3684     11:30  12:35 10 May   25h 5m      1 stop   \n",
       "1034     15:45         22:05   6h 20m      1 stop   \n",
       "\n",
       "                   Additional_Info  Monthday  Weekday  Month  wkday_sin  \\\n",
       "10005                      No info        27        0      4   0.000000   \n",
       "3684   In-flight meal not included         9        3      4   0.433884   \n",
       "1034                       No info        24        2      3   0.974928   \n",
       "\n",
       "       wkday_cos  mnth_sin      mnth_cos  \n",
       "10005   1.000000  0.866025 -5.000000e-01  \n",
       "3684   -0.900969  0.866025 -5.000000e-01  \n",
       "1034   -0.222521  1.000000  6.123234e-17  "
      ]
     },
     "execution_count": 254,
     "metadata": {},
     "output_type": "execute_result"
    }
   ],
   "source": [
    "drop_cols.append('Month')\n",
    "drop_cols.append('Weekday')\n",
    "df_train.head(3)"
   ]
  },
  {
   "cell_type": "code",
   "execution_count": 255,
   "metadata": {},
   "outputs": [],
   "source": [
    "def duration_cal(time):\n",
    "    dur = 0\n",
    "\n",
    "    if len(time.split()) != 2:\n",
    "        if time[-1] == 'h':\n",
    "            return int(time[:-1])\n",
    "        else:\n",
    "            return round(int(time[:-1])/60,2)\n",
    "    \n",
    "    else:\n",
    "        dur = dur + int(time.split()[0][:-1]) + round(int(time.split()[1][:-1])/60, 2)\n",
    "        return dur\n"
   ]
  },
  {
   "cell_type": "code",
   "execution_count": 256,
   "metadata": {},
   "outputs": [
    {
     "data": {
      "text/html": [
       "<div>\n",
       "<style scoped>\n",
       "    .dataframe tbody tr th:only-of-type {\n",
       "        vertical-align: middle;\n",
       "    }\n",
       "\n",
       "    .dataframe tbody tr th {\n",
       "        vertical-align: top;\n",
       "    }\n",
       "\n",
       "    .dataframe thead th {\n",
       "        text-align: right;\n",
       "    }\n",
       "</style>\n",
       "<table border=\"1\" class=\"dataframe\">\n",
       "  <thead>\n",
       "    <tr style=\"text-align: right;\">\n",
       "      <th></th>\n",
       "      <th>Airline</th>\n",
       "      <th>Date_of_Journey</th>\n",
       "      <th>Source</th>\n",
       "      <th>Destination</th>\n",
       "      <th>Route</th>\n",
       "      <th>Dep_Time</th>\n",
       "      <th>Arrival_Time</th>\n",
       "      <th>Duration</th>\n",
       "      <th>Total_Stops</th>\n",
       "      <th>Additional_Info</th>\n",
       "      <th>Monthday</th>\n",
       "      <th>Weekday</th>\n",
       "      <th>Month</th>\n",
       "      <th>wkday_sin</th>\n",
       "      <th>wkday_cos</th>\n",
       "      <th>mnth_sin</th>\n",
       "      <th>mnth_cos</th>\n",
       "      <th>Total_Duration_hrs</th>\n",
       "    </tr>\n",
       "  </thead>\n",
       "  <tbody>\n",
       "    <tr>\n",
       "      <th>10005</th>\n",
       "      <td>Multiple carriers</td>\n",
       "      <td>2019-05-27</td>\n",
       "      <td>Delhi</td>\n",
       "      <td>Cochin</td>\n",
       "      <td>DEL → BOM → COK</td>\n",
       "      <td>08:30</td>\n",
       "      <td>19:15</td>\n",
       "      <td>10h 45m</td>\n",
       "      <td>1 stop</td>\n",
       "      <td>No info</td>\n",
       "      <td>27</td>\n",
       "      <td>0</td>\n",
       "      <td>4</td>\n",
       "      <td>0.0</td>\n",
       "      <td>1.0</td>\n",
       "      <td>0.866025</td>\n",
       "      <td>-0.5</td>\n",
       "      <td>10.75</td>\n",
       "    </tr>\n",
       "  </tbody>\n",
       "</table>\n",
       "</div>"
      ],
      "text/plain": [
       "                 Airline Date_of_Journey Source Destination            Route  \\\n",
       "10005  Multiple carriers      2019-05-27  Delhi      Cochin  DEL → BOM → COK   \n",
       "\n",
       "      Dep_Time Arrival_Time Duration Total_Stops Additional_Info  Monthday  \\\n",
       "10005    08:30        19:15  10h 45m      1 stop         No info        27   \n",
       "\n",
       "       Weekday  Month  wkday_sin  wkday_cos  mnth_sin  mnth_cos  \\\n",
       "10005        0      4        0.0        1.0  0.866025      -0.5   \n",
       "\n",
       "       Total_Duration_hrs  \n",
       "10005               10.75  "
      ]
     },
     "execution_count": 256,
     "metadata": {},
     "output_type": "execute_result"
    }
   ],
   "source": [
    "df_train['Total_Duration_hrs'] = df_train['Duration'].apply(lambda x: duration_cal(x))\n",
    "\n",
    "drop_cols.append('Duration')\n",
    "df_train.head(1)"
   ]
  },
  {
   "cell_type": "code",
   "execution_count": 257,
   "metadata": {},
   "outputs": [],
   "source": [
    "def arr_time_cal(time):\n",
    "    time = time[:5]\n",
    "    dur = int(time.split(':')[0]) + round(int(time.split(':')[1])/60, 2)\n",
    "\n",
    "    return dur"
   ]
  },
  {
   "cell_type": "code",
   "execution_count": 258,
   "metadata": {},
   "outputs": [
    {
     "data": {
      "text/html": [
       "<div>\n",
       "<style scoped>\n",
       "    .dataframe tbody tr th:only-of-type {\n",
       "        vertical-align: middle;\n",
       "    }\n",
       "\n",
       "    .dataframe tbody tr th {\n",
       "        vertical-align: top;\n",
       "    }\n",
       "\n",
       "    .dataframe thead th {\n",
       "        text-align: right;\n",
       "    }\n",
       "</style>\n",
       "<table border=\"1\" class=\"dataframe\">\n",
       "  <thead>\n",
       "    <tr style=\"text-align: right;\">\n",
       "      <th></th>\n",
       "      <th>Airline</th>\n",
       "      <th>Date_of_Journey</th>\n",
       "      <th>Source</th>\n",
       "      <th>Destination</th>\n",
       "      <th>Route</th>\n",
       "      <th>Dep_Time</th>\n",
       "      <th>Arrival_Time</th>\n",
       "      <th>Duration</th>\n",
       "      <th>Total_Stops</th>\n",
       "      <th>Additional_Info</th>\n",
       "      <th>Monthday</th>\n",
       "      <th>Weekday</th>\n",
       "      <th>Month</th>\n",
       "      <th>wkday_sin</th>\n",
       "      <th>wkday_cos</th>\n",
       "      <th>mnth_sin</th>\n",
       "      <th>mnth_cos</th>\n",
       "      <th>Total_Duration_hrs</th>\n",
       "      <th>Arr_Time_hrs</th>\n",
       "    </tr>\n",
       "  </thead>\n",
       "  <tbody>\n",
       "    <tr>\n",
       "      <th>317</th>\n",
       "      <td>Multiple carriers</td>\n",
       "      <td>2019-06-27</td>\n",
       "      <td>Delhi</td>\n",
       "      <td>Cochin</td>\n",
       "      <td>DEL → BOM → COK</td>\n",
       "      <td>19:00</td>\n",
       "      <td>01:30 28 Jun</td>\n",
       "      <td>6h 30m</td>\n",
       "      <td>1 stop</td>\n",
       "      <td>No info</td>\n",
       "      <td>27</td>\n",
       "      <td>3</td>\n",
       "      <td>5</td>\n",
       "      <td>0.433884</td>\n",
       "      <td>-0.900969</td>\n",
       "      <td>0.5</td>\n",
       "      <td>-0.866025</td>\n",
       "      <td>6.5</td>\n",
       "      <td>1.5</td>\n",
       "    </tr>\n",
       "  </tbody>\n",
       "</table>\n",
       "</div>"
      ],
      "text/plain": [
       "               Airline Date_of_Journey Source Destination            Route  \\\n",
       "317  Multiple carriers      2019-06-27  Delhi      Cochin  DEL → BOM → COK   \n",
       "\n",
       "    Dep_Time  Arrival_Time Duration Total_Stops Additional_Info  Monthday  \\\n",
       "317    19:00  01:30 28 Jun   6h 30m      1 stop         No info        27   \n",
       "\n",
       "     Weekday  Month  wkday_sin  wkday_cos  mnth_sin  mnth_cos  \\\n",
       "317        3      5   0.433884  -0.900969       0.5 -0.866025   \n",
       "\n",
       "     Total_Duration_hrs  Arr_Time_hrs  \n",
       "317                 6.5           1.5  "
      ]
     },
     "execution_count": 258,
     "metadata": {},
     "output_type": "execute_result"
    }
   ],
   "source": [
    "df_train['Arr_Time_hrs'] = df_train['Arrival_Time'].apply(lambda x: arr_time_cal(x))\n",
    "\n",
    "drop_cols.append('Arrival_Time')\n",
    "df_train.sample(1)"
   ]
  },
  {
   "cell_type": "code",
   "execution_count": 259,
   "metadata": {},
   "outputs": [],
   "source": [
    "def dep_time_cal(time):\n",
    "    dur = int(time.split(':')[0]) + round(int(time.split(':')[1])/60, 2)\n",
    "\n",
    "    return dur"
   ]
  },
  {
   "cell_type": "code",
   "execution_count": 260,
   "metadata": {},
   "outputs": [
    {
     "data": {
      "text/html": [
       "<div>\n",
       "<style scoped>\n",
       "    .dataframe tbody tr th:only-of-type {\n",
       "        vertical-align: middle;\n",
       "    }\n",
       "\n",
       "    .dataframe tbody tr th {\n",
       "        vertical-align: top;\n",
       "    }\n",
       "\n",
       "    .dataframe thead th {\n",
       "        text-align: right;\n",
       "    }\n",
       "</style>\n",
       "<table border=\"1\" class=\"dataframe\">\n",
       "  <thead>\n",
       "    <tr style=\"text-align: right;\">\n",
       "      <th></th>\n",
       "      <th>Airline</th>\n",
       "      <th>Date_of_Journey</th>\n",
       "      <th>Source</th>\n",
       "      <th>Destination</th>\n",
       "      <th>Route</th>\n",
       "      <th>Dep_Time</th>\n",
       "      <th>Arrival_Time</th>\n",
       "      <th>Duration</th>\n",
       "      <th>Total_Stops</th>\n",
       "      <th>Additional_Info</th>\n",
       "      <th>Monthday</th>\n",
       "      <th>Weekday</th>\n",
       "      <th>Month</th>\n",
       "      <th>wkday_sin</th>\n",
       "      <th>wkday_cos</th>\n",
       "      <th>mnth_sin</th>\n",
       "      <th>mnth_cos</th>\n",
       "      <th>Total_Duration_hrs</th>\n",
       "      <th>Arr_Time_hrs</th>\n",
       "      <th>Dep_Time_hrs</th>\n",
       "    </tr>\n",
       "  </thead>\n",
       "  <tbody>\n",
       "    <tr>\n",
       "      <th>3010</th>\n",
       "      <td>Multiple carriers</td>\n",
       "      <td>2019-06-06</td>\n",
       "      <td>Delhi</td>\n",
       "      <td>Cochin</td>\n",
       "      <td>DEL → BOM → COK</td>\n",
       "      <td>11:30</td>\n",
       "      <td>21:00</td>\n",
       "      <td>9h 30m</td>\n",
       "      <td>1 stop</td>\n",
       "      <td>No info</td>\n",
       "      <td>6</td>\n",
       "      <td>3</td>\n",
       "      <td>5</td>\n",
       "      <td>0.433884</td>\n",
       "      <td>-0.900969</td>\n",
       "      <td>0.5</td>\n",
       "      <td>-0.866025</td>\n",
       "      <td>9.5</td>\n",
       "      <td>21.0</td>\n",
       "      <td>11.5</td>\n",
       "    </tr>\n",
       "  </tbody>\n",
       "</table>\n",
       "</div>"
      ],
      "text/plain": [
       "                Airline Date_of_Journey Source Destination            Route  \\\n",
       "3010  Multiple carriers      2019-06-06  Delhi      Cochin  DEL → BOM → COK   \n",
       "\n",
       "     Dep_Time Arrival_Time Duration Total_Stops Additional_Info  Monthday  \\\n",
       "3010    11:30        21:00   9h 30m      1 stop         No info         6   \n",
       "\n",
       "      Weekday  Month  wkday_sin  wkday_cos  mnth_sin  mnth_cos  \\\n",
       "3010        3      5   0.433884  -0.900969       0.5 -0.866025   \n",
       "\n",
       "      Total_Duration_hrs  Arr_Time_hrs  Dep_Time_hrs  \n",
       "3010                 9.5          21.0          11.5  "
      ]
     },
     "execution_count": 260,
     "metadata": {},
     "output_type": "execute_result"
    }
   ],
   "source": [
    "df_train['Dep_Time_hrs'] = df_train['Dep_Time'].apply(lambda x: dep_time_cal(x))\n",
    "\n",
    "drop_cols.append('Dep_Time')\n",
    "df_train.sample(1)"
   ]
  },
  {
   "cell_type": "code",
   "execution_count": 261,
   "metadata": {},
   "outputs": [
    {
     "data": {
      "text/plain": [
       "['Date_of_Journey', 'Month', 'Weekday', 'Duration', 'Arrival_Time', 'Dep_Time']"
      ]
     },
     "execution_count": 261,
     "metadata": {},
     "output_type": "execute_result"
    }
   ],
   "source": [
    "drop_cols"
   ]
  },
  {
   "cell_type": "markdown",
   "metadata": {},
   "source": [
    "## Exploring Categorical Variables"
   ]
  },
  {
   "cell_type": "code",
   "execution_count": 262,
   "metadata": {},
   "outputs": [
    {
     "data": {
      "text/plain": [
       "1 stop      4522\n",
       "non-stop    2778\n",
       "2 stops     1203\n",
       "3 stops       41\n",
       "4 stops        1\n",
       "Name: Total_Stops, dtype: int64"
      ]
     },
     "execution_count": 262,
     "metadata": {},
     "output_type": "execute_result"
    }
   ],
   "source": [
    "df_train['Total_Stops'].value_counts()"
   ]
  },
  {
   "cell_type": "code",
   "execution_count": 263,
   "metadata": {},
   "outputs": [
    {
     "data": {
      "text/html": [
       "<div>\n",
       "<style scoped>\n",
       "    .dataframe tbody tr th:only-of-type {\n",
       "        vertical-align: middle;\n",
       "    }\n",
       "\n",
       "    .dataframe tbody tr th {\n",
       "        vertical-align: top;\n",
       "    }\n",
       "\n",
       "    .dataframe thead th {\n",
       "        text-align: right;\n",
       "    }\n",
       "</style>\n",
       "<table border=\"1\" class=\"dataframe\">\n",
       "  <thead>\n",
       "    <tr style=\"text-align: right;\">\n",
       "      <th></th>\n",
       "      <th>Airline</th>\n",
       "      <th>Date_of_Journey</th>\n",
       "      <th>Source</th>\n",
       "      <th>Destination</th>\n",
       "      <th>Route</th>\n",
       "      <th>Dep_Time</th>\n",
       "      <th>Arrival_Time</th>\n",
       "      <th>Duration</th>\n",
       "      <th>Total_Stops</th>\n",
       "      <th>Additional_Info</th>\n",
       "      <th>Monthday</th>\n",
       "      <th>Weekday</th>\n",
       "      <th>Month</th>\n",
       "      <th>wkday_sin</th>\n",
       "      <th>wkday_cos</th>\n",
       "      <th>mnth_sin</th>\n",
       "      <th>mnth_cos</th>\n",
       "      <th>Total_Duration_hrs</th>\n",
       "      <th>Arr_Time_hrs</th>\n",
       "      <th>Dep_Time_hrs</th>\n",
       "    </tr>\n",
       "  </thead>\n",
       "  <tbody>\n",
       "    <tr>\n",
       "      <th>10005</th>\n",
       "      <td>Multiple carriers</td>\n",
       "      <td>2019-05-27</td>\n",
       "      <td>Delhi</td>\n",
       "      <td>Cochin</td>\n",
       "      <td>DEL → BOM → COK</td>\n",
       "      <td>08:30</td>\n",
       "      <td>19:15</td>\n",
       "      <td>10h 45m</td>\n",
       "      <td>1</td>\n",
       "      <td>No info</td>\n",
       "      <td>27</td>\n",
       "      <td>0</td>\n",
       "      <td>4</td>\n",
       "      <td>0.000000</td>\n",
       "      <td>1.000000</td>\n",
       "      <td>0.866025</td>\n",
       "      <td>-5.000000e-01</td>\n",
       "      <td>10.75</td>\n",
       "      <td>19.25</td>\n",
       "      <td>8.50</td>\n",
       "    </tr>\n",
       "    <tr>\n",
       "      <th>3684</th>\n",
       "      <td>Jet Airways</td>\n",
       "      <td>2019-05-09</td>\n",
       "      <td>Delhi</td>\n",
       "      <td>Cochin</td>\n",
       "      <td>DEL → BOM → COK</td>\n",
       "      <td>11:30</td>\n",
       "      <td>12:35 10 May</td>\n",
       "      <td>25h 5m</td>\n",
       "      <td>1</td>\n",
       "      <td>In-flight meal not included</td>\n",
       "      <td>9</td>\n",
       "      <td>3</td>\n",
       "      <td>4</td>\n",
       "      <td>0.433884</td>\n",
       "      <td>-0.900969</td>\n",
       "      <td>0.866025</td>\n",
       "      <td>-5.000000e-01</td>\n",
       "      <td>25.08</td>\n",
       "      <td>12.58</td>\n",
       "      <td>11.50</td>\n",
       "    </tr>\n",
       "    <tr>\n",
       "      <th>1034</th>\n",
       "      <td>SpiceJet</td>\n",
       "      <td>2019-04-24</td>\n",
       "      <td>Delhi</td>\n",
       "      <td>Cochin</td>\n",
       "      <td>DEL → MAA → COK</td>\n",
       "      <td>15:45</td>\n",
       "      <td>22:05</td>\n",
       "      <td>6h 20m</td>\n",
       "      <td>1</td>\n",
       "      <td>No info</td>\n",
       "      <td>24</td>\n",
       "      <td>2</td>\n",
       "      <td>3</td>\n",
       "      <td>0.974928</td>\n",
       "      <td>-0.222521</td>\n",
       "      <td>1.000000</td>\n",
       "      <td>6.123234e-17</td>\n",
       "      <td>6.33</td>\n",
       "      <td>22.08</td>\n",
       "      <td>15.75</td>\n",
       "    </tr>\n",
       "    <tr>\n",
       "      <th>3909</th>\n",
       "      <td>Multiple carriers</td>\n",
       "      <td>2019-03-21</td>\n",
       "      <td>Delhi</td>\n",
       "      <td>Cochin</td>\n",
       "      <td>DEL → BOM → COK</td>\n",
       "      <td>12:50</td>\n",
       "      <td>01:35 22 Mar</td>\n",
       "      <td>12h 45m</td>\n",
       "      <td>1</td>\n",
       "      <td>No info</td>\n",
       "      <td>21</td>\n",
       "      <td>3</td>\n",
       "      <td>2</td>\n",
       "      <td>0.433884</td>\n",
       "      <td>-0.900969</td>\n",
       "      <td>0.866025</td>\n",
       "      <td>5.000000e-01</td>\n",
       "      <td>12.75</td>\n",
       "      <td>1.58</td>\n",
       "      <td>12.83</td>\n",
       "    </tr>\n",
       "    <tr>\n",
       "      <th>3088</th>\n",
       "      <td>Air India</td>\n",
       "      <td>2019-06-24</td>\n",
       "      <td>Delhi</td>\n",
       "      <td>Cochin</td>\n",
       "      <td>DEL → HYD → BOM → COK</td>\n",
       "      <td>17:15</td>\n",
       "      <td>19:15 25 Jun</td>\n",
       "      <td>26h</td>\n",
       "      <td>2</td>\n",
       "      <td>No info</td>\n",
       "      <td>24</td>\n",
       "      <td>0</td>\n",
       "      <td>5</td>\n",
       "      <td>0.000000</td>\n",
       "      <td>1.000000</td>\n",
       "      <td>0.500000</td>\n",
       "      <td>-8.660254e-01</td>\n",
       "      <td>26.00</td>\n",
       "      <td>19.25</td>\n",
       "      <td>17.25</td>\n",
       "    </tr>\n",
       "  </tbody>\n",
       "</table>\n",
       "</div>"
      ],
      "text/plain": [
       "                 Airline Date_of_Journey Source Destination  \\\n",
       "10005  Multiple carriers      2019-05-27  Delhi      Cochin   \n",
       "3684         Jet Airways      2019-05-09  Delhi      Cochin   \n",
       "1034            SpiceJet      2019-04-24  Delhi      Cochin   \n",
       "3909   Multiple carriers      2019-03-21  Delhi      Cochin   \n",
       "3088           Air India      2019-06-24  Delhi      Cochin   \n",
       "\n",
       "                       Route Dep_Time  Arrival_Time Duration  Total_Stops  \\\n",
       "10005        DEL → BOM → COK    08:30         19:15  10h 45m            1   \n",
       "3684         DEL → BOM → COK    11:30  12:35 10 May   25h 5m            1   \n",
       "1034         DEL → MAA → COK    15:45         22:05   6h 20m            1   \n",
       "3909         DEL → BOM → COK    12:50  01:35 22 Mar  12h 45m            1   \n",
       "3088   DEL → HYD → BOM → COK    17:15  19:15 25 Jun      26h            2   \n",
       "\n",
       "                   Additional_Info  Monthday  Weekday  Month  wkday_sin  \\\n",
       "10005                      No info        27        0      4   0.000000   \n",
       "3684   In-flight meal not included         9        3      4   0.433884   \n",
       "1034                       No info        24        2      3   0.974928   \n",
       "3909                       No info        21        3      2   0.433884   \n",
       "3088                       No info        24        0      5   0.000000   \n",
       "\n",
       "       wkday_cos  mnth_sin      mnth_cos  Total_Duration_hrs  Arr_Time_hrs  \\\n",
       "10005   1.000000  0.866025 -5.000000e-01               10.75         19.25   \n",
       "3684   -0.900969  0.866025 -5.000000e-01               25.08         12.58   \n",
       "1034   -0.222521  1.000000  6.123234e-17                6.33         22.08   \n",
       "3909   -0.900969  0.866025  5.000000e-01               12.75          1.58   \n",
       "3088    1.000000  0.500000 -8.660254e-01               26.00         19.25   \n",
       "\n",
       "       Dep_Time_hrs  \n",
       "10005          8.50  \n",
       "3684          11.50  \n",
       "1034          15.75  \n",
       "3909          12.83  \n",
       "3088          17.25  "
      ]
     },
     "execution_count": 263,
     "metadata": {},
     "output_type": "execute_result"
    }
   ],
   "source": [
    "df_train['Total_Stops'] = df_train['Total_Stops'].map({'1 stop':1, '2 stops':2, '3 stops':3, '4 stops':4, 'non-stop':0})\n",
    "drop_cols.append('Route')\n",
    "\n",
    "df_train.head(5)"
   ]
  },
  {
   "cell_type": "code",
   "execution_count": 264,
   "metadata": {},
   "outputs": [
    {
     "data": {
      "text/plain": [
       "No info                         6713\n",
       "In-flight meal not included     1549\n",
       "No check-in baggage included     254\n",
       "1 Long layover                    15\n",
       "Change airports                    7\n",
       "No Info                            2\n",
       "Business class                     2\n",
       "Red-eye flight                     1\n",
       "2 Long layover                     1\n",
       "1 Short layover                    1\n",
       "Name: Additional_Info, dtype: int64"
      ]
     },
     "execution_count": 264,
     "metadata": {},
     "output_type": "execute_result"
    }
   ],
   "source": [
    "df_train['Additional_Info'].value_counts()"
   ]
  },
  {
   "cell_type": "code",
   "execution_count": 265,
   "metadata": {},
   "outputs": [
    {
     "data": {
      "text/html": [
       "<div>\n",
       "<style scoped>\n",
       "    .dataframe tbody tr th:only-of-type {\n",
       "        vertical-align: middle;\n",
       "    }\n",
       "\n",
       "    .dataframe tbody tr th {\n",
       "        vertical-align: top;\n",
       "    }\n",
       "\n",
       "    .dataframe thead th {\n",
       "        text-align: right;\n",
       "    }\n",
       "</style>\n",
       "<table border=\"1\" class=\"dataframe\">\n",
       "  <thead>\n",
       "    <tr style=\"text-align: right;\">\n",
       "      <th></th>\n",
       "      <th>Total_Stops</th>\n",
       "      <th>Monthday</th>\n",
       "      <th>Weekday</th>\n",
       "      <th>Month</th>\n",
       "      <th>wkday_sin</th>\n",
       "      <th>wkday_cos</th>\n",
       "      <th>mnth_sin</th>\n",
       "      <th>mnth_cos</th>\n",
       "      <th>Total_Duration_hrs</th>\n",
       "      <th>Arr_Time_hrs</th>\n",
       "      <th>Dep_Time_hrs</th>\n",
       "    </tr>\n",
       "    <tr>\n",
       "      <th>Additional_Info</th>\n",
       "      <th></th>\n",
       "      <th></th>\n",
       "      <th></th>\n",
       "      <th></th>\n",
       "      <th></th>\n",
       "      <th></th>\n",
       "      <th></th>\n",
       "      <th></th>\n",
       "      <th></th>\n",
       "      <th></th>\n",
       "      <th></th>\n",
       "    </tr>\n",
       "  </thead>\n",
       "  <tbody>\n",
       "    <tr>\n",
       "      <th>1 Long layover</th>\n",
       "      <td>1.000000</td>\n",
       "      <td>2.533333</td>\n",
       "      <td>3.733333</td>\n",
       "      <td>2.200000</td>\n",
       "      <td>-0.404958</td>\n",
       "      <td>-0.774238</td>\n",
       "      <td>0.841624</td>\n",
       "      <td>0.408932</td>\n",
       "      <td>15.411333</td>\n",
       "      <td>15.083333</td>\n",
       "      <td>12.472000</td>\n",
       "    </tr>\n",
       "    <tr>\n",
       "      <th>1 Short layover</th>\n",
       "      <td>2.000000</td>\n",
       "      <td>1.000000</td>\n",
       "      <td>4.000000</td>\n",
       "      <td>2.000000</td>\n",
       "      <td>-0.433884</td>\n",
       "      <td>-0.900969</td>\n",
       "      <td>0.866025</td>\n",
       "      <td>0.500000</td>\n",
       "      <td>14.580000</td>\n",
       "      <td>23.420000</td>\n",
       "      <td>8.830000</td>\n",
       "    </tr>\n",
       "    <tr>\n",
       "      <th>2 Long layover</th>\n",
       "      <td>2.000000</td>\n",
       "      <td>1.000000</td>\n",
       "      <td>4.000000</td>\n",
       "      <td>2.000000</td>\n",
       "      <td>-0.433884</td>\n",
       "      <td>-0.900969</td>\n",
       "      <td>0.866025</td>\n",
       "      <td>0.500000</td>\n",
       "      <td>26.670000</td>\n",
       "      <td>9.420000</td>\n",
       "      <td>6.750000</td>\n",
       "    </tr>\n",
       "    <tr>\n",
       "      <th>Business class</th>\n",
       "      <td>1.000000</td>\n",
       "      <td>1.000000</td>\n",
       "      <td>4.000000</td>\n",
       "      <td>2.000000</td>\n",
       "      <td>-0.433884</td>\n",
       "      <td>-0.900969</td>\n",
       "      <td>0.866025</td>\n",
       "      <td>0.500000</td>\n",
       "      <td>6.170000</td>\n",
       "      <td>11.920000</td>\n",
       "      <td>5.750000</td>\n",
       "    </tr>\n",
       "    <tr>\n",
       "      <th>Change airports</th>\n",
       "      <td>2.000000</td>\n",
       "      <td>1.000000</td>\n",
       "      <td>4.000000</td>\n",
       "      <td>2.000000</td>\n",
       "      <td>-0.433884</td>\n",
       "      <td>-0.900969</td>\n",
       "      <td>0.866025</td>\n",
       "      <td>0.500000</td>\n",
       "      <td>16.010000</td>\n",
       "      <td>19.571429</td>\n",
       "      <td>10.414286</td>\n",
       "    </tr>\n",
       "    <tr>\n",
       "      <th>In-flight meal not included</th>\n",
       "      <td>0.968367</td>\n",
       "      <td>14.277598</td>\n",
       "      <td>2.826340</td>\n",
       "      <td>3.875403</td>\n",
       "      <td>0.046844</td>\n",
       "      <td>0.006362</td>\n",
       "      <td>0.746584</td>\n",
       "      <td>-0.390564</td>\n",
       "      <td>14.043996</td>\n",
       "      <td>13.568832</td>\n",
       "      <td>13.609400</td>\n",
       "    </tr>\n",
       "    <tr>\n",
       "      <th>No Info</th>\n",
       "      <td>1.000000</td>\n",
       "      <td>1.000000</td>\n",
       "      <td>4.000000</td>\n",
       "      <td>2.000000</td>\n",
       "      <td>-0.433884</td>\n",
       "      <td>-0.900969</td>\n",
       "      <td>0.866025</td>\n",
       "      <td>0.500000</td>\n",
       "      <td>4.540000</td>\n",
       "      <td>15.290000</td>\n",
       "      <td>10.750000</td>\n",
       "    </tr>\n",
       "    <tr>\n",
       "      <th>No check-in baggage included</th>\n",
       "      <td>0.051181</td>\n",
       "      <td>15.299213</td>\n",
       "      <td>2.956693</td>\n",
       "      <td>3.783465</td>\n",
       "      <td>-0.016626</td>\n",
       "      <td>-0.004771</td>\n",
       "      <td>0.776729</td>\n",
       "      <td>-0.349008</td>\n",
       "      <td>2.455236</td>\n",
       "      <td>10.389882</td>\n",
       "      <td>12.565079</td>\n",
       "    </tr>\n",
       "    <tr>\n",
       "      <th>No info</th>\n",
       "      <td>0.820051</td>\n",
       "      <td>13.436020</td>\n",
       "      <td>2.938776</td>\n",
       "      <td>3.667213</td>\n",
       "      <td>0.033375</td>\n",
       "      <td>0.008748</td>\n",
       "      <td>0.766648</td>\n",
       "      <td>-0.292155</td>\n",
       "      <td>10.209468</td>\n",
       "      <td>13.883918</td>\n",
       "      <td>12.719197</td>\n",
       "    </tr>\n",
       "    <tr>\n",
       "      <th>Red-eye flight</th>\n",
       "      <td>0.000000</td>\n",
       "      <td>1.000000</td>\n",
       "      <td>4.000000</td>\n",
       "      <td>2.000000</td>\n",
       "      <td>-0.433884</td>\n",
       "      <td>-0.900969</td>\n",
       "      <td>0.866025</td>\n",
       "      <td>0.500000</td>\n",
       "      <td>2.750000</td>\n",
       "      <td>2.170000</td>\n",
       "      <td>23.420000</td>\n",
       "    </tr>\n",
       "  </tbody>\n",
       "</table>\n",
       "</div>"
      ],
      "text/plain": [
       "                              Total_Stops   Monthday   Weekday     Month  \\\n",
       "Additional_Info                                                            \n",
       "1 Long layover                   1.000000   2.533333  3.733333  2.200000   \n",
       "1 Short layover                  2.000000   1.000000  4.000000  2.000000   \n",
       "2 Long layover                   2.000000   1.000000  4.000000  2.000000   \n",
       "Business class                   1.000000   1.000000  4.000000  2.000000   \n",
       "Change airports                  2.000000   1.000000  4.000000  2.000000   \n",
       "In-flight meal not included      0.968367  14.277598  2.826340  3.875403   \n",
       "No Info                          1.000000   1.000000  4.000000  2.000000   \n",
       "No check-in baggage included     0.051181  15.299213  2.956693  3.783465   \n",
       "No info                          0.820051  13.436020  2.938776  3.667213   \n",
       "Red-eye flight                   0.000000   1.000000  4.000000  2.000000   \n",
       "\n",
       "                              wkday_sin  wkday_cos  mnth_sin  mnth_cos  \\\n",
       "Additional_Info                                                          \n",
       "1 Long layover                -0.404958  -0.774238  0.841624  0.408932   \n",
       "1 Short layover               -0.433884  -0.900969  0.866025  0.500000   \n",
       "2 Long layover                -0.433884  -0.900969  0.866025  0.500000   \n",
       "Business class                -0.433884  -0.900969  0.866025  0.500000   \n",
       "Change airports               -0.433884  -0.900969  0.866025  0.500000   \n",
       "In-flight meal not included    0.046844   0.006362  0.746584 -0.390564   \n",
       "No Info                       -0.433884  -0.900969  0.866025  0.500000   \n",
       "No check-in baggage included  -0.016626  -0.004771  0.776729 -0.349008   \n",
       "No info                        0.033375   0.008748  0.766648 -0.292155   \n",
       "Red-eye flight                -0.433884  -0.900969  0.866025  0.500000   \n",
       "\n",
       "                              Total_Duration_hrs  Arr_Time_hrs  Dep_Time_hrs  \n",
       "Additional_Info                                                               \n",
       "1 Long layover                         15.411333     15.083333     12.472000  \n",
       "1 Short layover                        14.580000     23.420000      8.830000  \n",
       "2 Long layover                         26.670000      9.420000      6.750000  \n",
       "Business class                          6.170000     11.920000      5.750000  \n",
       "Change airports                        16.010000     19.571429     10.414286  \n",
       "In-flight meal not included            14.043996     13.568832     13.609400  \n",
       "No Info                                 4.540000     15.290000     10.750000  \n",
       "No check-in baggage included            2.455236     10.389882     12.565079  \n",
       "No info                                10.209468     13.883918     12.719197  \n",
       "Red-eye flight                          2.750000      2.170000     23.420000  "
      ]
     },
     "execution_count": 265,
     "metadata": {},
     "output_type": "execute_result"
    }
   ],
   "source": [
    "df_train.groupby(by='Additional_Info').mean()"
   ]
  },
  {
   "cell_type": "code",
   "execution_count": 266,
   "metadata": {},
   "outputs": [],
   "source": [
    "df_train['Additional_Info'] = df_train['Additional_Info'].replace({\"No info\":\"No Info\", \n",
    "                                                                   \"No Info\":\"No Info\", \n",
    "                                                                   \"1 Long layover\":\"Layover\",\n",
    "                                                                   \"1 Short layover\":\"Layover\",\n",
    "                                                                   \"2 Long layover\":\"Layover\"})"
   ]
  },
  {
   "cell_type": "code",
   "execution_count": 267,
   "metadata": {},
   "outputs": [
    {
     "data": {
      "text/plain": [
       "No Info                         6715\n",
       "In-flight meal not included     1549\n",
       "No check-in baggage included     254\n",
       "Layover                           17\n",
       "Change airports                    7\n",
       "Business class                     2\n",
       "Red-eye flight                     1\n",
       "Name: Additional_Info, dtype: int64"
      ]
     },
     "execution_count": 267,
     "metadata": {},
     "output_type": "execute_result"
    }
   ],
   "source": [
    "df_train['Additional_Info'].value_counts()"
   ]
  },
  {
   "cell_type": "code",
   "execution_count": 268,
   "metadata": {},
   "outputs": [
    {
     "data": {
      "text/html": [
       "<div>\n",
       "<style scoped>\n",
       "    .dataframe tbody tr th:only-of-type {\n",
       "        vertical-align: middle;\n",
       "    }\n",
       "\n",
       "    .dataframe tbody tr th {\n",
       "        vertical-align: top;\n",
       "    }\n",
       "\n",
       "    .dataframe thead th {\n",
       "        text-align: right;\n",
       "    }\n",
       "</style>\n",
       "<table border=\"1\" class=\"dataframe\">\n",
       "  <thead>\n",
       "    <tr style=\"text-align: right;\">\n",
       "      <th></th>\n",
       "      <th>Airline</th>\n",
       "      <th>Date_of_Journey</th>\n",
       "      <th>Source</th>\n",
       "      <th>Destination</th>\n",
       "      <th>Route</th>\n",
       "      <th>Dep_Time</th>\n",
       "      <th>Arrival_Time</th>\n",
       "      <th>Duration</th>\n",
       "      <th>Total_Stops</th>\n",
       "      <th>Additional_Info</th>\n",
       "      <th>Monthday</th>\n",
       "      <th>Weekday</th>\n",
       "      <th>Month</th>\n",
       "      <th>wkday_sin</th>\n",
       "      <th>wkday_cos</th>\n",
       "      <th>mnth_sin</th>\n",
       "      <th>mnth_cos</th>\n",
       "      <th>Total_Duration_hrs</th>\n",
       "      <th>Arr_Time_hrs</th>\n",
       "      <th>Dep_Time_hrs</th>\n",
       "    </tr>\n",
       "  </thead>\n",
       "  <tbody>\n",
       "    <tr>\n",
       "      <th>4309</th>\n",
       "      <td>SpiceJet</td>\n",
       "      <td>2019-04-01</td>\n",
       "      <td>Banglore</td>\n",
       "      <td>Delhi</td>\n",
       "      <td>BLR → DEL</td>\n",
       "      <td>05:55</td>\n",
       "      <td>08:35</td>\n",
       "      <td>2h 40m</td>\n",
       "      <td>0</td>\n",
       "      <td>No Info</td>\n",
       "      <td>1</td>\n",
       "      <td>0</td>\n",
       "      <td>3</td>\n",
       "      <td>0.000000</td>\n",
       "      <td>1.000000</td>\n",
       "      <td>1.000000</td>\n",
       "      <td>6.123234e-17</td>\n",
       "      <td>2.67</td>\n",
       "      <td>8.58</td>\n",
       "      <td>5.92</td>\n",
       "    </tr>\n",
       "    <tr>\n",
       "      <th>466</th>\n",
       "      <td>IndiGo</td>\n",
       "      <td>2019-03-06</td>\n",
       "      <td>Kolkata</td>\n",
       "      <td>Banglore</td>\n",
       "      <td>CCU → BLR</td>\n",
       "      <td>17:15</td>\n",
       "      <td>19:55</td>\n",
       "      <td>2h 40m</td>\n",
       "      <td>0</td>\n",
       "      <td>No Info</td>\n",
       "      <td>6</td>\n",
       "      <td>2</td>\n",
       "      <td>2</td>\n",
       "      <td>0.974928</td>\n",
       "      <td>-0.222521</td>\n",
       "      <td>0.866025</td>\n",
       "      <td>5.000000e-01</td>\n",
       "      <td>2.67</td>\n",
       "      <td>19.92</td>\n",
       "      <td>17.25</td>\n",
       "    </tr>\n",
       "  </tbody>\n",
       "</table>\n",
       "</div>"
      ],
      "text/plain": [
       "       Airline Date_of_Journey    Source Destination      Route Dep_Time  \\\n",
       "4309  SpiceJet      2019-04-01  Banglore       Delhi  BLR → DEL    05:55   \n",
       "466     IndiGo      2019-03-06   Kolkata    Banglore  CCU → BLR    17:15   \n",
       "\n",
       "     Arrival_Time Duration  Total_Stops Additional_Info  Monthday  Weekday  \\\n",
       "4309        08:35   2h 40m            0         No Info         1        0   \n",
       "466         19:55   2h 40m            0         No Info         6        2   \n",
       "\n",
       "      Month  wkday_sin  wkday_cos  mnth_sin      mnth_cos  Total_Duration_hrs  \\\n",
       "4309      3   0.000000   1.000000  1.000000  6.123234e-17                2.67   \n",
       "466       2   0.974928  -0.222521  0.866025  5.000000e-01                2.67   \n",
       "\n",
       "      Arr_Time_hrs  Dep_Time_hrs  \n",
       "4309          8.58          5.92  \n",
       "466          19.92         17.25  "
      ]
     },
     "execution_count": 268,
     "metadata": {},
     "output_type": "execute_result"
    }
   ],
   "source": [
    "df_train.sample(2)"
   ]
  },
  {
   "cell_type": "code",
   "execution_count": 269,
   "metadata": {},
   "outputs": [
    {
     "data": {
      "text/plain": [
       "((8545, 20), (8545,))"
      ]
     },
     "execution_count": 269,
     "metadata": {},
     "output_type": "execute_result"
    }
   ],
   "source": [
    "df_train.shape, y_train.shape"
   ]
  },
  {
   "cell_type": "code",
   "execution_count": 270,
   "metadata": {},
   "outputs": [
    {
     "data": {
      "text/plain": [
       "Index(['Airline', 'Date_of_Journey', 'Source', 'Destination', 'Route',\n",
       "       'Dep_Time', 'Arrival_Time', 'Duration', 'Total_Stops',\n",
       "       'Additional_Info', 'Monthday', 'Weekday', 'Month', 'wkday_sin',\n",
       "       'wkday_cos', 'mnth_sin', 'mnth_cos', 'Total_Duration_hrs',\n",
       "       'Arr_Time_hrs', 'Dep_Time_hrs'],\n",
       "      dtype='object')"
      ]
     },
     "execution_count": 270,
     "metadata": {},
     "output_type": "execute_result"
    }
   ],
   "source": [
    "df_train.columns"
   ]
  },
  {
   "cell_type": "markdown",
   "metadata": {},
   "source": [
    "# Preprocessing and Model Selection"
   ]
  },
  {
   "cell_type": "code",
   "execution_count": 271,
   "metadata": {},
   "outputs": [],
   "source": [
    "from sklearn.preprocessing import OneHotEncoder\n",
    "from sklearn.compose import ColumnTransformer\n",
    "from sklearn.preprocessing import RobustScaler\n",
    "from sklearn.pipeline import Pipeline\n",
    "from sklearn.metrics import r2_score"
   ]
  },
  {
   "cell_type": "code",
   "execution_count": 272,
   "metadata": {},
   "outputs": [],
   "source": [
    "features_cat = ['Airline','Source','Destination','Additional_Info']\n",
    "features_num = ['Monthday','Total_Duration_hrs','Arr_Time_hrs','Dep_Time_hrs','Total_Stops']"
   ]
  },
  {
   "cell_type": "code",
   "execution_count": 273,
   "metadata": {},
   "outputs": [],
   "source": [
    "transformer = ColumnTransformer(transformers=[('OneHotEncoder', OneHotEncoder(drop='first'), features_cat), \n",
    "                                              ('RobustScaler', RobustScaler(), features_num)], \n",
    "                                               remainder='passthrough', sparse_threshold=0)"
   ]
  },
  {
   "cell_type": "code",
   "execution_count": 274,
   "metadata": {},
   "outputs": [
    {
     "name": "stdout",
     "output_type": "stream",
     "text": [
      "['Date_of_Journey', 'Month', 'Weekday', 'Duration', 'Arrival_Time', 'Dep_Time', 'Route']\n"
     ]
    },
    {
     "data": {
      "text/html": [
       "<div>\n",
       "<style scoped>\n",
       "    .dataframe tbody tr th:only-of-type {\n",
       "        vertical-align: middle;\n",
       "    }\n",
       "\n",
       "    .dataframe tbody tr th {\n",
       "        vertical-align: top;\n",
       "    }\n",
       "\n",
       "    .dataframe thead th {\n",
       "        text-align: right;\n",
       "    }\n",
       "</style>\n",
       "<table border=\"1\" class=\"dataframe\">\n",
       "  <thead>\n",
       "    <tr style=\"text-align: right;\">\n",
       "      <th></th>\n",
       "      <th>Airline</th>\n",
       "      <th>Source</th>\n",
       "      <th>Destination</th>\n",
       "      <th>Total_Stops</th>\n",
       "      <th>Additional_Info</th>\n",
       "      <th>Monthday</th>\n",
       "      <th>wkday_sin</th>\n",
       "      <th>wkday_cos</th>\n",
       "      <th>mnth_sin</th>\n",
       "      <th>mnth_cos</th>\n",
       "      <th>Total_Duration_hrs</th>\n",
       "      <th>Arr_Time_hrs</th>\n",
       "      <th>Dep_Time_hrs</th>\n",
       "    </tr>\n",
       "  </thead>\n",
       "  <tbody>\n",
       "    <tr>\n",
       "      <th>10005</th>\n",
       "      <td>Multiple carriers</td>\n",
       "      <td>Delhi</td>\n",
       "      <td>Cochin</td>\n",
       "      <td>1</td>\n",
       "      <td>No Info</td>\n",
       "      <td>27</td>\n",
       "      <td>0.000000</td>\n",
       "      <td>1.000000</td>\n",
       "      <td>0.866025</td>\n",
       "      <td>-0.5</td>\n",
       "      <td>10.75</td>\n",
       "      <td>19.25</td>\n",
       "      <td>8.5</td>\n",
       "    </tr>\n",
       "    <tr>\n",
       "      <th>3684</th>\n",
       "      <td>Jet Airways</td>\n",
       "      <td>Delhi</td>\n",
       "      <td>Cochin</td>\n",
       "      <td>1</td>\n",
       "      <td>In-flight meal not included</td>\n",
       "      <td>9</td>\n",
       "      <td>0.433884</td>\n",
       "      <td>-0.900969</td>\n",
       "      <td>0.866025</td>\n",
       "      <td>-0.5</td>\n",
       "      <td>25.08</td>\n",
       "      <td>12.58</td>\n",
       "      <td>11.5</td>\n",
       "    </tr>\n",
       "  </tbody>\n",
       "</table>\n",
       "</div>"
      ],
      "text/plain": [
       "                 Airline Source Destination  Total_Stops  \\\n",
       "10005  Multiple carriers  Delhi      Cochin            1   \n",
       "3684         Jet Airways  Delhi      Cochin            1   \n",
       "\n",
       "                   Additional_Info  Monthday  wkday_sin  wkday_cos  mnth_sin  \\\n",
       "10005                      No Info        27   0.000000   1.000000  0.866025   \n",
       "3684   In-flight meal not included         9   0.433884  -0.900969  0.866025   \n",
       "\n",
       "       mnth_cos  Total_Duration_hrs  Arr_Time_hrs  Dep_Time_hrs  \n",
       "10005      -0.5               10.75         19.25           8.5  \n",
       "3684       -0.5               25.08         12.58          11.5  "
      ]
     },
     "execution_count": 274,
     "metadata": {},
     "output_type": "execute_result"
    }
   ],
   "source": [
    "print(drop_cols)\n",
    "df_train.drop(columns=drop_cols,inplace=True)\n",
    "df_train.head(2)"
   ]
  },
  {
   "cell_type": "code",
   "execution_count": 275,
   "metadata": {},
   "outputs": [
    {
     "data": {
      "text/plain": [
       "((8545, 13), (8545,))"
      ]
     },
     "execution_count": 275,
     "metadata": {},
     "output_type": "execute_result"
    }
   ],
   "source": [
    "df_train.shape, y_train.shape"
   ]
  },
  {
   "cell_type": "code",
   "execution_count": 276,
   "metadata": {},
   "outputs": [
    {
     "data": {
      "text/html": [
       "<div>\n",
       "<style scoped>\n",
       "    .dataframe tbody tr th:only-of-type {\n",
       "        vertical-align: middle;\n",
       "    }\n",
       "\n",
       "    .dataframe tbody tr th {\n",
       "        vertical-align: top;\n",
       "    }\n",
       "\n",
       "    .dataframe thead th {\n",
       "        text-align: right;\n",
       "    }\n",
       "</style>\n",
       "<table border=\"1\" class=\"dataframe\">\n",
       "  <thead>\n",
       "    <tr style=\"text-align: right;\">\n",
       "      <th></th>\n",
       "      <th>Airline</th>\n",
       "      <th>Source</th>\n",
       "      <th>Destination</th>\n",
       "      <th>Total_Stops</th>\n",
       "      <th>Additional_Info</th>\n",
       "      <th>Monthday</th>\n",
       "      <th>wkday_sin</th>\n",
       "      <th>wkday_cos</th>\n",
       "      <th>mnth_sin</th>\n",
       "      <th>mnth_cos</th>\n",
       "      <th>Total_Duration_hrs</th>\n",
       "      <th>Arr_Time_hrs</th>\n",
       "      <th>Dep_Time_hrs</th>\n",
       "    </tr>\n",
       "  </thead>\n",
       "  <tbody>\n",
       "    <tr>\n",
       "      <th>10005</th>\n",
       "      <td>Multiple carriers</td>\n",
       "      <td>Delhi</td>\n",
       "      <td>Cochin</td>\n",
       "      <td>1</td>\n",
       "      <td>No Info</td>\n",
       "      <td>27</td>\n",
       "      <td>0.000000</td>\n",
       "      <td>1.000000</td>\n",
       "      <td>0.866025</td>\n",
       "      <td>-5.000000e-01</td>\n",
       "      <td>10.75</td>\n",
       "      <td>19.25</td>\n",
       "      <td>8.50</td>\n",
       "    </tr>\n",
       "    <tr>\n",
       "      <th>3684</th>\n",
       "      <td>Jet Airways</td>\n",
       "      <td>Delhi</td>\n",
       "      <td>Cochin</td>\n",
       "      <td>1</td>\n",
       "      <td>In-flight meal not included</td>\n",
       "      <td>9</td>\n",
       "      <td>0.433884</td>\n",
       "      <td>-0.900969</td>\n",
       "      <td>0.866025</td>\n",
       "      <td>-5.000000e-01</td>\n",
       "      <td>25.08</td>\n",
       "      <td>12.58</td>\n",
       "      <td>11.50</td>\n",
       "    </tr>\n",
       "    <tr>\n",
       "      <th>1034</th>\n",
       "      <td>SpiceJet</td>\n",
       "      <td>Delhi</td>\n",
       "      <td>Cochin</td>\n",
       "      <td>1</td>\n",
       "      <td>No Info</td>\n",
       "      <td>24</td>\n",
       "      <td>0.974928</td>\n",
       "      <td>-0.222521</td>\n",
       "      <td>1.000000</td>\n",
       "      <td>6.123234e-17</td>\n",
       "      <td>6.33</td>\n",
       "      <td>22.08</td>\n",
       "      <td>15.75</td>\n",
       "    </tr>\n",
       "    <tr>\n",
       "      <th>3909</th>\n",
       "      <td>Multiple carriers</td>\n",
       "      <td>Delhi</td>\n",
       "      <td>Cochin</td>\n",
       "      <td>1</td>\n",
       "      <td>No Info</td>\n",
       "      <td>21</td>\n",
       "      <td>0.433884</td>\n",
       "      <td>-0.900969</td>\n",
       "      <td>0.866025</td>\n",
       "      <td>5.000000e-01</td>\n",
       "      <td>12.75</td>\n",
       "      <td>1.58</td>\n",
       "      <td>12.83</td>\n",
       "    </tr>\n",
       "    <tr>\n",
       "      <th>3088</th>\n",
       "      <td>Air India</td>\n",
       "      <td>Delhi</td>\n",
       "      <td>Cochin</td>\n",
       "      <td>2</td>\n",
       "      <td>No Info</td>\n",
       "      <td>24</td>\n",
       "      <td>0.000000</td>\n",
       "      <td>1.000000</td>\n",
       "      <td>0.500000</td>\n",
       "      <td>-8.660254e-01</td>\n",
       "      <td>26.00</td>\n",
       "      <td>19.25</td>\n",
       "      <td>17.25</td>\n",
       "    </tr>\n",
       "    <tr>\n",
       "      <th>...</th>\n",
       "      <td>...</td>\n",
       "      <td>...</td>\n",
       "      <td>...</td>\n",
       "      <td>...</td>\n",
       "      <td>...</td>\n",
       "      <td>...</td>\n",
       "      <td>...</td>\n",
       "      <td>...</td>\n",
       "      <td>...</td>\n",
       "      <td>...</td>\n",
       "      <td>...</td>\n",
       "      <td>...</td>\n",
       "      <td>...</td>\n",
       "    </tr>\n",
       "    <tr>\n",
       "      <th>5734</th>\n",
       "      <td>Jet Airways</td>\n",
       "      <td>Delhi</td>\n",
       "      <td>Cochin</td>\n",
       "      <td>1</td>\n",
       "      <td>No Info</td>\n",
       "      <td>27</td>\n",
       "      <td>0.974928</td>\n",
       "      <td>-0.222521</td>\n",
       "      <td>0.866025</td>\n",
       "      <td>5.000000e-01</td>\n",
       "      <td>19.42</td>\n",
       "      <td>4.42</td>\n",
       "      <td>9.00</td>\n",
       "    </tr>\n",
       "    <tr>\n",
       "      <th>5191</th>\n",
       "      <td>Jet Airways</td>\n",
       "      <td>Kolkata</td>\n",
       "      <td>Banglore</td>\n",
       "      <td>1</td>\n",
       "      <td>In-flight meal not included</td>\n",
       "      <td>9</td>\n",
       "      <td>0.433884</td>\n",
       "      <td>-0.900969</td>\n",
       "      <td>0.866025</td>\n",
       "      <td>-5.000000e-01</td>\n",
       "      <td>6.67</td>\n",
       "      <td>20.75</td>\n",
       "      <td>14.08</td>\n",
       "    </tr>\n",
       "    <tr>\n",
       "      <th>5390</th>\n",
       "      <td>Multiple carriers</td>\n",
       "      <td>Delhi</td>\n",
       "      <td>Cochin</td>\n",
       "      <td>1</td>\n",
       "      <td>No Info</td>\n",
       "      <td>15</td>\n",
       "      <td>0.974928</td>\n",
       "      <td>-0.222521</td>\n",
       "      <td>0.866025</td>\n",
       "      <td>-5.000000e-01</td>\n",
       "      <td>12.67</td>\n",
       "      <td>1.50</td>\n",
       "      <td>12.83</td>\n",
       "    </tr>\n",
       "    <tr>\n",
       "      <th>860</th>\n",
       "      <td>IndiGo</td>\n",
       "      <td>Banglore</td>\n",
       "      <td>New Delhi</td>\n",
       "      <td>0</td>\n",
       "      <td>No Info</td>\n",
       "      <td>3</td>\n",
       "      <td>-0.781831</td>\n",
       "      <td>0.623490</td>\n",
       "      <td>0.866025</td>\n",
       "      <td>5.000000e-01</td>\n",
       "      <td>2.75</td>\n",
       "      <td>3.42</td>\n",
       "      <td>0.67</td>\n",
       "    </tr>\n",
       "    <tr>\n",
       "      <th>7270</th>\n",
       "      <td>Jet Airways</td>\n",
       "      <td>Delhi</td>\n",
       "      <td>Cochin</td>\n",
       "      <td>1</td>\n",
       "      <td>In-flight meal not included</td>\n",
       "      <td>1</td>\n",
       "      <td>-0.974928</td>\n",
       "      <td>-0.222521</td>\n",
       "      <td>0.500000</td>\n",
       "      <td>-8.660254e-01</td>\n",
       "      <td>15.42</td>\n",
       "      <td>4.42</td>\n",
       "      <td>13.00</td>\n",
       "    </tr>\n",
       "  </tbody>\n",
       "</table>\n",
       "<p>8545 rows × 13 columns</p>\n",
       "</div>"
      ],
      "text/plain": [
       "                 Airline    Source Destination  Total_Stops  \\\n",
       "10005  Multiple carriers     Delhi      Cochin            1   \n",
       "3684         Jet Airways     Delhi      Cochin            1   \n",
       "1034            SpiceJet     Delhi      Cochin            1   \n",
       "3909   Multiple carriers     Delhi      Cochin            1   \n",
       "3088           Air India     Delhi      Cochin            2   \n",
       "...                  ...       ...         ...          ...   \n",
       "5734         Jet Airways     Delhi      Cochin            1   \n",
       "5191         Jet Airways   Kolkata    Banglore            1   \n",
       "5390   Multiple carriers     Delhi      Cochin            1   \n",
       "860               IndiGo  Banglore   New Delhi            0   \n",
       "7270         Jet Airways     Delhi      Cochin            1   \n",
       "\n",
       "                   Additional_Info  Monthday  wkday_sin  wkday_cos  mnth_sin  \\\n",
       "10005                      No Info        27   0.000000   1.000000  0.866025   \n",
       "3684   In-flight meal not included         9   0.433884  -0.900969  0.866025   \n",
       "1034                       No Info        24   0.974928  -0.222521  1.000000   \n",
       "3909                       No Info        21   0.433884  -0.900969  0.866025   \n",
       "3088                       No Info        24   0.000000   1.000000  0.500000   \n",
       "...                            ...       ...        ...        ...       ...   \n",
       "5734                       No Info        27   0.974928  -0.222521  0.866025   \n",
       "5191   In-flight meal not included         9   0.433884  -0.900969  0.866025   \n",
       "5390                       No Info        15   0.974928  -0.222521  0.866025   \n",
       "860                        No Info         3  -0.781831   0.623490  0.866025   \n",
       "7270   In-flight meal not included         1  -0.974928  -0.222521  0.500000   \n",
       "\n",
       "           mnth_cos  Total_Duration_hrs  Arr_Time_hrs  Dep_Time_hrs  \n",
       "10005 -5.000000e-01               10.75         19.25          8.50  \n",
       "3684  -5.000000e-01               25.08         12.58         11.50  \n",
       "1034   6.123234e-17                6.33         22.08         15.75  \n",
       "3909   5.000000e-01               12.75          1.58         12.83  \n",
       "3088  -8.660254e-01               26.00         19.25         17.25  \n",
       "...             ...                 ...           ...           ...  \n",
       "5734   5.000000e-01               19.42          4.42          9.00  \n",
       "5191  -5.000000e-01                6.67         20.75         14.08  \n",
       "5390  -5.000000e-01               12.67          1.50         12.83  \n",
       "860    5.000000e-01                2.75          3.42          0.67  \n",
       "7270  -8.660254e-01               15.42          4.42         13.00  \n",
       "\n",
       "[8545 rows x 13 columns]"
      ]
     },
     "execution_count": 276,
     "metadata": {},
     "output_type": "execute_result"
    }
   ],
   "source": [
    "df_train"
   ]
  },
  {
   "cell_type": "markdown",
   "metadata": {},
   "source": [
    "### Linear Regression"
   ]
  },
  {
   "cell_type": "code",
   "execution_count": 277,
   "metadata": {},
   "outputs": [
    {
     "data": {
      "text/plain": [
       "Pipeline(steps=[('preprocessor',\n",
       "                 ColumnTransformer(remainder='passthrough', sparse_threshold=0,\n",
       "                                   transformers=[('OneHotEncoder',\n",
       "                                                  OneHotEncoder(drop='first'),\n",
       "                                                  ['Airline', 'Source',\n",
       "                                                   'Destination',\n",
       "                                                   'Additional_Info']),\n",
       "                                                 ('RobustScaler',\n",
       "                                                  RobustScaler(),\n",
       "                                                  ['Monthday',\n",
       "                                                   'Total_Duration_hrs',\n",
       "                                                   'Arr_Time_hrs',\n",
       "                                                   'Dep_Time_hrs',\n",
       "                                                   'Total_Stops'])])),\n",
       "                ('Linear Regression', LinearRegression())])"
      ]
     },
     "execution_count": 277,
     "metadata": {},
     "output_type": "execute_result"
    }
   ],
   "source": [
    "from sklearn.linear_model import LinearRegression\n",
    "lr = LinearRegression()\n",
    "\n",
    "pipe_lr = Pipeline([('preprocessor', transformer), ('Linear Regression', lr)])\n",
    "pipe_lr.fit(df_train, y_train)"
   ]
  },
  {
   "cell_type": "markdown",
   "metadata": {},
   "source": [
    "#### Insample Linear Regression Score"
   ]
  },
  {
   "cell_type": "code",
   "execution_count": 278,
   "metadata": {},
   "outputs": [
    {
     "data": {
      "text/plain": [
       "0.6945334538230825"
      ]
     },
     "execution_count": 278,
     "metadata": {},
     "output_type": "execute_result"
    }
   ],
   "source": [
    "pipe_lr.score(df_train,y_train)"
   ]
  },
  {
   "cell_type": "markdown",
   "metadata": {},
   "source": [
    "### RandomForestRegressor"
   ]
  },
  {
   "cell_type": "code",
   "execution_count": 279,
   "metadata": {},
   "outputs": [
    {
     "data": {
      "text/plain": [
       "Pipeline(steps=[('preprocessor',\n",
       "                 ColumnTransformer(remainder='passthrough', sparse_threshold=0,\n",
       "                                   transformers=[('OneHotEncoder',\n",
       "                                                  OneHotEncoder(drop='first'),\n",
       "                                                  ['Airline', 'Source',\n",
       "                                                   'Destination',\n",
       "                                                   'Additional_Info']),\n",
       "                                                 ('RobustScaler',\n",
       "                                                  RobustScaler(),\n",
       "                                                  ['Monthday',\n",
       "                                                   'Total_Duration_hrs',\n",
       "                                                   'Arr_Time_hrs',\n",
       "                                                   'Dep_Time_hrs',\n",
       "                                                   'Total_Stops'])])),\n",
       "                ('Random Forest', RandomForestRegressor())])"
      ]
     },
     "execution_count": 279,
     "metadata": {},
     "output_type": "execute_result"
    }
   ],
   "source": [
    "from sklearn.ensemble import RandomForestRegressor\n",
    "rfr = RandomForestRegressor()\n",
    "\n",
    "pipe_rfr = Pipeline([('preprocessor', transformer), ('Random Forest', rfr)])\n",
    "pipe_rfr.fit(df_train, y_train)"
   ]
  },
  {
   "cell_type": "markdown",
   "metadata": {},
   "source": [
    "#### Insample Random Forest Score"
   ]
  },
  {
   "cell_type": "code",
   "execution_count": 280,
   "metadata": {},
   "outputs": [
    {
     "data": {
      "text/plain": [
       "0.9806002419933969"
      ]
     },
     "execution_count": 280,
     "metadata": {},
     "output_type": "execute_result"
    }
   ],
   "source": [
    "pipe_rfr.score(df_train, y_train)"
   ]
  },
  {
   "cell_type": "markdown",
   "metadata": {},
   "source": [
    "## Test Data"
   ]
  },
  {
   "cell_type": "code",
   "execution_count": 281,
   "metadata": {},
   "outputs": [
    {
     "data": {
      "text/plain": [
       "((2137, 10), (2137,))"
      ]
     },
     "execution_count": 281,
     "metadata": {},
     "output_type": "execute_result"
    }
   ],
   "source": [
    "df_test.shape, y_test.shape"
   ]
  },
  {
   "cell_type": "code",
   "execution_count": 282,
   "metadata": {},
   "outputs": [
    {
     "data": {
      "text/html": [
       "<div>\n",
       "<style scoped>\n",
       "    .dataframe tbody tr th:only-of-type {\n",
       "        vertical-align: middle;\n",
       "    }\n",
       "\n",
       "    .dataframe tbody tr th {\n",
       "        vertical-align: top;\n",
       "    }\n",
       "\n",
       "    .dataframe thead th {\n",
       "        text-align: right;\n",
       "    }\n",
       "</style>\n",
       "<table border=\"1\" class=\"dataframe\">\n",
       "  <thead>\n",
       "    <tr style=\"text-align: right;\">\n",
       "      <th></th>\n",
       "      <th>Airline</th>\n",
       "      <th>Date_of_Journey</th>\n",
       "      <th>Source</th>\n",
       "      <th>Destination</th>\n",
       "      <th>Route</th>\n",
       "      <th>Dep_Time</th>\n",
       "      <th>Arrival_Time</th>\n",
       "      <th>Duration</th>\n",
       "      <th>Total_Stops</th>\n",
       "      <th>Additional_Info</th>\n",
       "    </tr>\n",
       "  </thead>\n",
       "  <tbody>\n",
       "    <tr>\n",
       "      <th>6075</th>\n",
       "      <td>Multiple carriers</td>\n",
       "      <td>21/05/2019</td>\n",
       "      <td>Delhi</td>\n",
       "      <td>Cochin</td>\n",
       "      <td>DEL → IDR → BOM → COK</td>\n",
       "      <td>15:05</td>\n",
       "      <td>01:30 22 May</td>\n",
       "      <td>10h 25m</td>\n",
       "      <td>2 stops</td>\n",
       "      <td>No info</td>\n",
       "    </tr>\n",
       "    <tr>\n",
       "      <th>3544</th>\n",
       "      <td>GoAir</td>\n",
       "      <td>3/06/2019</td>\n",
       "      <td>Delhi</td>\n",
       "      <td>Cochin</td>\n",
       "      <td>DEL → BOM → COK</td>\n",
       "      <td>10:35</td>\n",
       "      <td>19:35</td>\n",
       "      <td>9h</td>\n",
       "      <td>1 stop</td>\n",
       "      <td>No info</td>\n",
       "    </tr>\n",
       "    <tr>\n",
       "      <th>9291</th>\n",
       "      <td>Vistara</td>\n",
       "      <td>9/05/2019</td>\n",
       "      <td>Kolkata</td>\n",
       "      <td>Banglore</td>\n",
       "      <td>CCU → DEL → BLR</td>\n",
       "      <td>20:20</td>\n",
       "      <td>09:05 10 May</td>\n",
       "      <td>12h 45m</td>\n",
       "      <td>1 stop</td>\n",
       "      <td>No info</td>\n",
       "    </tr>\n",
       "    <tr>\n",
       "      <th>5032</th>\n",
       "      <td>IndiGo</td>\n",
       "      <td>24/05/2019</td>\n",
       "      <td>Chennai</td>\n",
       "      <td>Kolkata</td>\n",
       "      <td>MAA → CCU</td>\n",
       "      <td>14:45</td>\n",
       "      <td>17:05</td>\n",
       "      <td>2h 20m</td>\n",
       "      <td>non-stop</td>\n",
       "      <td>No info</td>\n",
       "    </tr>\n",
       "    <tr>\n",
       "      <th>2483</th>\n",
       "      <td>Jet Airways</td>\n",
       "      <td>21/05/2019</td>\n",
       "      <td>Delhi</td>\n",
       "      <td>Cochin</td>\n",
       "      <td>DEL → BOM → COK</td>\n",
       "      <td>22:50</td>\n",
       "      <td>04:25 22 May</td>\n",
       "      <td>5h 35m</td>\n",
       "      <td>1 stop</td>\n",
       "      <td>In-flight meal not included</td>\n",
       "    </tr>\n",
       "    <tr>\n",
       "      <th>...</th>\n",
       "      <td>...</td>\n",
       "      <td>...</td>\n",
       "      <td>...</td>\n",
       "      <td>...</td>\n",
       "      <td>...</td>\n",
       "      <td>...</td>\n",
       "      <td>...</td>\n",
       "      <td>...</td>\n",
       "      <td>...</td>\n",
       "      <td>...</td>\n",
       "    </tr>\n",
       "    <tr>\n",
       "      <th>9797</th>\n",
       "      <td>Multiple carriers</td>\n",
       "      <td>27/06/2019</td>\n",
       "      <td>Delhi</td>\n",
       "      <td>Cochin</td>\n",
       "      <td>DEL → BOM → COK</td>\n",
       "      <td>08:00</td>\n",
       "      <td>21:00</td>\n",
       "      <td>13h</td>\n",
       "      <td>1 stop</td>\n",
       "      <td>No info</td>\n",
       "    </tr>\n",
       "    <tr>\n",
       "      <th>9871</th>\n",
       "      <td>SpiceJet</td>\n",
       "      <td>6/03/2019</td>\n",
       "      <td>Kolkata</td>\n",
       "      <td>Banglore</td>\n",
       "      <td>CCU → BLR</td>\n",
       "      <td>17:15</td>\n",
       "      <td>19:45</td>\n",
       "      <td>2h 30m</td>\n",
       "      <td>non-stop</td>\n",
       "      <td>No info</td>\n",
       "    </tr>\n",
       "    <tr>\n",
       "      <th>10063</th>\n",
       "      <td>Air Asia</td>\n",
       "      <td>21/04/2019</td>\n",
       "      <td>Delhi</td>\n",
       "      <td>Cochin</td>\n",
       "      <td>DEL → BLR → COK</td>\n",
       "      <td>07:55</td>\n",
       "      <td>22:25</td>\n",
       "      <td>14h 30m</td>\n",
       "      <td>1 stop</td>\n",
       "      <td>No info</td>\n",
       "    </tr>\n",
       "    <tr>\n",
       "      <th>8802</th>\n",
       "      <td>Jet Airways</td>\n",
       "      <td>24/03/2019</td>\n",
       "      <td>Kolkata</td>\n",
       "      <td>Banglore</td>\n",
       "      <td>CCU → BOM → BLR</td>\n",
       "      <td>06:30</td>\n",
       "      <td>23:25</td>\n",
       "      <td>16h 55m</td>\n",
       "      <td>1 stop</td>\n",
       "      <td>In-flight meal not included</td>\n",
       "    </tr>\n",
       "    <tr>\n",
       "      <th>8617</th>\n",
       "      <td>Jet Airways</td>\n",
       "      <td>6/06/2019</td>\n",
       "      <td>Kolkata</td>\n",
       "      <td>Banglore</td>\n",
       "      <td>CCU → DEL → BLR</td>\n",
       "      <td>17:00</td>\n",
       "      <td>23:35</td>\n",
       "      <td>6h 35m</td>\n",
       "      <td>1 stop</td>\n",
       "      <td>No info</td>\n",
       "    </tr>\n",
       "  </tbody>\n",
       "</table>\n",
       "<p>2137 rows × 10 columns</p>\n",
       "</div>"
      ],
      "text/plain": [
       "                 Airline Date_of_Journey   Source Destination  \\\n",
       "6075   Multiple carriers      21/05/2019    Delhi      Cochin   \n",
       "3544               GoAir       3/06/2019    Delhi      Cochin   \n",
       "9291             Vistara       9/05/2019  Kolkata    Banglore   \n",
       "5032              IndiGo      24/05/2019  Chennai     Kolkata   \n",
       "2483         Jet Airways      21/05/2019    Delhi      Cochin   \n",
       "...                  ...             ...      ...         ...   \n",
       "9797   Multiple carriers      27/06/2019    Delhi      Cochin   \n",
       "9871            SpiceJet       6/03/2019  Kolkata    Banglore   \n",
       "10063           Air Asia      21/04/2019    Delhi      Cochin   \n",
       "8802         Jet Airways      24/03/2019  Kolkata    Banglore   \n",
       "8617         Jet Airways       6/06/2019  Kolkata    Banglore   \n",
       "\n",
       "                       Route Dep_Time  Arrival_Time Duration Total_Stops  \\\n",
       "6075   DEL → IDR → BOM → COK    15:05  01:30 22 May  10h 25m     2 stops   \n",
       "3544         DEL → BOM → COK    10:35         19:35       9h      1 stop   \n",
       "9291         CCU → DEL → BLR    20:20  09:05 10 May  12h 45m      1 stop   \n",
       "5032               MAA → CCU    14:45         17:05   2h 20m    non-stop   \n",
       "2483         DEL → BOM → COK    22:50  04:25 22 May   5h 35m      1 stop   \n",
       "...                      ...      ...           ...      ...         ...   \n",
       "9797         DEL → BOM → COK    08:00         21:00      13h      1 stop   \n",
       "9871               CCU → BLR    17:15         19:45   2h 30m    non-stop   \n",
       "10063        DEL → BLR → COK    07:55         22:25  14h 30m      1 stop   \n",
       "8802         CCU → BOM → BLR    06:30         23:25  16h 55m      1 stop   \n",
       "8617         CCU → DEL → BLR    17:00         23:35   6h 35m      1 stop   \n",
       "\n",
       "                   Additional_Info  \n",
       "6075                       No info  \n",
       "3544                       No info  \n",
       "9291                       No info  \n",
       "5032                       No info  \n",
       "2483   In-flight meal not included  \n",
       "...                            ...  \n",
       "9797                       No info  \n",
       "9871                       No info  \n",
       "10063                      No info  \n",
       "8802   In-flight meal not included  \n",
       "8617                       No info  \n",
       "\n",
       "[2137 rows x 10 columns]"
      ]
     },
     "execution_count": 282,
     "metadata": {},
     "output_type": "execute_result"
    }
   ],
   "source": [
    "df_test"
   ]
  },
  {
   "cell_type": "code",
   "execution_count": 283,
   "metadata": {},
   "outputs": [],
   "source": [
    "df_test['Date_of_Journey'] = pd.to_datetime(df_test['Date_of_Journey'], format='%d/%m/%Y')\n",
    "\n",
    "df_test['Monthday'] = df_test['Date_of_Journey'].dt.day\n",
    "df_test['Weekday'] = df_test['Date_of_Journey'].dt.dayofweek      # Monday=0 Sunday=6\n",
    "df_test['Month'] = df_test['Date_of_Journey'].dt.month - 1           # original: Jan=1 Dec=12, after -1: Jan=0 Dec=11\n",
    "\n",
    "df_test['wkday_sin'] = np.sin(df_test['Weekday']*(2.*np.pi/7))\n",
    "df_test['wkday_cos'] = np.cos(df_test['Weekday']*(2.*np.pi/7))\n",
    "df_test['mnth_sin'] = np.sin(df_test['Month']*(2.*np.pi/12))\n",
    "df_test['mnth_cos'] = np.cos(df_test['Month']*(2.*np.pi/12))\n",
    "\n",
    "df_test['Total_Duration_hrs'] = df_test['Duration'].apply(lambda x: duration_cal(x))\n",
    "df_test['Arr_Time_hrs'] = df_test['Arrival_Time'].apply(lambda x: arr_time_cal(x))\n",
    "df_test['Dep_Time_hrs'] = df_test['Dep_Time'].apply(lambda x: dep_time_cal(x))\n",
    "\n",
    "df_test['Total_Stops'] = df_test['Total_Stops'].map({'1 stop':1, '2 stops':2, '3 stops':3, '4 stops':4, 'non-stop':0})\n",
    "\n",
    "df_test['Additional_Info'] = df_test['Additional_Info'].replace({\"No info\":\"No Info\", \n",
    "                                                                   \"No Info\":\"No Info\", \n",
    "                                                                   \"1 Long layover\":\"Layover\",\n",
    "                                                                   \"1 Short layover\":\"Layover\",\n",
    "                                                                   \"2 Long layover\":\"Layover\"})\n"
   ]
  },
  {
   "cell_type": "code",
   "execution_count": 284,
   "metadata": {},
   "outputs": [
    {
     "data": {
      "text/html": [
       "<div>\n",
       "<style scoped>\n",
       "    .dataframe tbody tr th:only-of-type {\n",
       "        vertical-align: middle;\n",
       "    }\n",
       "\n",
       "    .dataframe tbody tr th {\n",
       "        vertical-align: top;\n",
       "    }\n",
       "\n",
       "    .dataframe thead th {\n",
       "        text-align: right;\n",
       "    }\n",
       "</style>\n",
       "<table border=\"1\" class=\"dataframe\">\n",
       "  <thead>\n",
       "    <tr style=\"text-align: right;\">\n",
       "      <th></th>\n",
       "      <th>Airline</th>\n",
       "      <th>Source</th>\n",
       "      <th>Destination</th>\n",
       "      <th>Total_Stops</th>\n",
       "      <th>Additional_Info</th>\n",
       "      <th>Monthday</th>\n",
       "      <th>wkday_sin</th>\n",
       "      <th>wkday_cos</th>\n",
       "      <th>mnth_sin</th>\n",
       "      <th>mnth_cos</th>\n",
       "      <th>Total_Duration_hrs</th>\n",
       "      <th>Arr_Time_hrs</th>\n",
       "      <th>Dep_Time_hrs</th>\n",
       "    </tr>\n",
       "  </thead>\n",
       "  <tbody>\n",
       "    <tr>\n",
       "      <th>6075</th>\n",
       "      <td>Multiple carriers</td>\n",
       "      <td>Delhi</td>\n",
       "      <td>Cochin</td>\n",
       "      <td>2</td>\n",
       "      <td>No Info</td>\n",
       "      <td>21</td>\n",
       "      <td>0.781831</td>\n",
       "      <td>0.623490</td>\n",
       "      <td>0.866025</td>\n",
       "      <td>-0.500000</td>\n",
       "      <td>10.42</td>\n",
       "      <td>1.50</td>\n",
       "      <td>15.08</td>\n",
       "    </tr>\n",
       "    <tr>\n",
       "      <th>3544</th>\n",
       "      <td>GoAir</td>\n",
       "      <td>Delhi</td>\n",
       "      <td>Cochin</td>\n",
       "      <td>1</td>\n",
       "      <td>No Info</td>\n",
       "      <td>3</td>\n",
       "      <td>0.000000</td>\n",
       "      <td>1.000000</td>\n",
       "      <td>0.500000</td>\n",
       "      <td>-0.866025</td>\n",
       "      <td>9.00</td>\n",
       "      <td>19.58</td>\n",
       "      <td>10.58</td>\n",
       "    </tr>\n",
       "    <tr>\n",
       "      <th>9291</th>\n",
       "      <td>Vistara</td>\n",
       "      <td>Kolkata</td>\n",
       "      <td>Banglore</td>\n",
       "      <td>1</td>\n",
       "      <td>No Info</td>\n",
       "      <td>9</td>\n",
       "      <td>0.433884</td>\n",
       "      <td>-0.900969</td>\n",
       "      <td>0.866025</td>\n",
       "      <td>-0.500000</td>\n",
       "      <td>12.75</td>\n",
       "      <td>9.08</td>\n",
       "      <td>20.33</td>\n",
       "    </tr>\n",
       "  </tbody>\n",
       "</table>\n",
       "</div>"
      ],
      "text/plain": [
       "                Airline   Source Destination  Total_Stops Additional_Info  \\\n",
       "6075  Multiple carriers    Delhi      Cochin            2         No Info   \n",
       "3544              GoAir    Delhi      Cochin            1         No Info   \n",
       "9291            Vistara  Kolkata    Banglore            1         No Info   \n",
       "\n",
       "      Monthday  wkday_sin  wkday_cos  mnth_sin  mnth_cos  Total_Duration_hrs  \\\n",
       "6075        21   0.781831   0.623490  0.866025 -0.500000               10.42   \n",
       "3544         3   0.000000   1.000000  0.500000 -0.866025                9.00   \n",
       "9291         9   0.433884  -0.900969  0.866025 -0.500000               12.75   \n",
       "\n",
       "      Arr_Time_hrs  Dep_Time_hrs  \n",
       "6075          1.50         15.08  \n",
       "3544         19.58         10.58  \n",
       "9291          9.08         20.33  "
      ]
     },
     "execution_count": 284,
     "metadata": {},
     "output_type": "execute_result"
    }
   ],
   "source": [
    "df_test.drop(columns=drop_cols,inplace=True)\n",
    "df_test.head(3)"
   ]
  },
  {
   "cell_type": "code",
   "execution_count": 285,
   "metadata": {},
   "outputs": [
    {
     "data": {
      "text/plain": [
       "((2137, 13), (2137,))"
      ]
     },
     "execution_count": 285,
     "metadata": {},
     "output_type": "execute_result"
    }
   ],
   "source": [
    "df_test.shape, y_test.shape"
   ]
  },
  {
   "cell_type": "markdown",
   "metadata": {},
   "source": [
    "### Linear Regssion on Test Set"
   ]
  },
  {
   "cell_type": "code",
   "execution_count": 286,
   "metadata": {},
   "outputs": [
    {
     "data": {
      "text/plain": [
       "0.6912210109865741"
      ]
     },
     "execution_count": 286,
     "metadata": {},
     "output_type": "execute_result"
    }
   ],
   "source": [
    "pred_lr = pipe_lr.predict(df_test)\n",
    "pipe_lr.score(df_test,y_test)"
   ]
  },
  {
   "cell_type": "code",
   "execution_count": 287,
   "metadata": {},
   "outputs": [
    {
     "name": "stdout",
     "output_type": "stream",
     "text": [
      "LINEAR REGRESSION\n",
      "----------------------------------------\n",
      "MAE: 1771.1875292466075\n",
      "MSE: 6657909.952825222\n",
      "RMSE: 2580.2926099233828\n",
      "R2 Score: 0.6912210109865741\n"
     ]
    },
    {
     "data": {
      "image/png": "[encoded data removed]",
      "text/plain": [
       "<Figure size 864x432 with 1 Axes>"
      ]
     },
     "metadata": {},
     "output_type": "display_data"
    }
   ],
   "source": [
    "from sklearn.metrics import mean_absolute_error, mean_squared_error\n",
    "\n",
    "plt.scatter(y_test, pred_lr, alpha=0.8, marker='o', edgecolors='white')\n",
    "plt.xlabel('Truth')\n",
    "plt.ylabel('Predicted')\n",
    "\n",
    "print('LINEAR REGRESSION')\n",
    "print('----------------------------------------')\n",
    "print('MAE:', mean_absolute_error(y_test, pred_lr))\n",
    "print('MSE:', mean_squared_error(y_test, pred_lr))\n",
    "print('RMSE:', np.sqrt(mean_squared_error(y_test, pred_lr)))\n",
    "print('R2 Score:', r2_score(y_test,pred_lr))"
   ]
  },
  {
   "cell_type": "code",
   "execution_count": 288,
   "metadata": {},
   "outputs": [
    {
     "name": "stderr",
     "output_type": "stream",
     "text": [
      "C:\\Users\\nikhi\\anaconda3\\lib\\site-packages\\seaborn\\distributions.py:2619: FutureWarning: `distplot` is a deprecated function and will be removed in a future version. Please adapt your code to use either `displot` (a figure-level function with similar flexibility) or `histplot` (an axes-level function for histograms).\n",
      "  warnings.warn(msg, FutureWarning)\n"
     ]
    },
    {
     "data": {
      "text/plain": [
       "<AxesSubplot:xlabel='Price', ylabel='Density'>"
      ]
     },
     "execution_count": 288,
     "metadata": {},
     "output_type": "execute_result"
    },
    {
     "data": {
      "image/png": "[encoded data removed]",
      "text/plain": [
       "<Figure size 864x432 with 1 Axes>"
      ]
     },
     "metadata": {},
     "output_type": "display_data"
    }
   ],
   "source": [
    "sns.distplot(y_test-pred_lr, kde=True)"
   ]
  },
  {
   "cell_type": "code",
   "execution_count": 289,
   "metadata": {},
   "outputs": [
    {
     "data": {
      "text/plain": [
       "(array([12957.25,  7543.75,  9448.  ,  3739.75,  9048.75, 11145.  ,\n",
       "        12050.5 , 10589.25,  8579.  , 12175.75,  3069.  ]),\n",
       " 6075    16655\n",
       " 3544     4959\n",
       " 9291     9187\n",
       " 5032     3858\n",
       " 2483    12898\n",
       " 9894    10529\n",
       " 346     16079\n",
       " 6365     7229\n",
       " 7624    10844\n",
       " 3393    16289\n",
       " 5412     3943\n",
       " Name: Price, dtype: int64)"
      ]
     },
     "execution_count": 289,
     "metadata": {},
     "output_type": "execute_result"
    }
   ],
   "source": [
    "pred_lr[:11], y_test[:11]"
   ]
  },
  {
   "cell_type": "markdown",
   "metadata": {},
   "source": [
    "### Random Forest Regressor on Test Set"
   ]
  },
  {
   "cell_type": "code",
   "execution_count": 290,
   "metadata": {},
   "outputs": [
    {
     "data": {
      "text/plain": [
       "0.9017692136559227"
      ]
     },
     "execution_count": 290,
     "metadata": {},
     "output_type": "execute_result"
    }
   ],
   "source": [
    "pred_rfr = pipe_rfr.predict(df_test)\n",
    "pipe_rfr.score(df_test,y_test)"
   ]
  },
  {
   "cell_type": "code",
   "execution_count": 291,
   "metadata": {},
   "outputs": [
    {
     "data": {
      "text/plain": [
       "((2137, 13), (2137,))"
      ]
     },
     "execution_count": 291,
     "metadata": {},
     "output_type": "execute_result"
    }
   ],
   "source": [
    "df_test.shape,y_test.shape"
   ]
  },
  {
   "cell_type": "code",
   "execution_count": 292,
   "metadata": {},
   "outputs": [
    {
     "name": "stdout",
     "output_type": "stream",
     "text": [
      "RANDOM FOREST CLASSIFIER\n",
      "----------------------------------------\n",
      "MAE: 638.9279619723203\n",
      "MSE: 2118057.7479176987\n",
      "RMSE: 1455.354852919967\n",
      "R2 Score: 0.9017692136559227\n"
     ]
    },
    {
     "data": {
      "image/png": "[encoded data removed]",
      "text/plain": [
       "<Figure size 864x432 with 1 Axes>"
      ]
     },
     "metadata": {},
     "output_type": "display_data"
    }
   ],
   "source": [
    "plt.scatter(y_test, pred_rfr, alpha=0.8, marker='o', edgecolors='white')\n",
    "plt.xlabel('Truth')\n",
    "plt.ylabel('Predicted')\n",
    "\n",
    "print('RANDOM FOREST CLASSIFIER')\n",
    "print('----------------------------------------')\n",
    "print('MAE:', mean_absolute_error(y_test, pred_rfr))\n",
    "print('MSE:', mean_squared_error(y_test, pred_rfr))\n",
    "print('RMSE:', np.sqrt(mean_squared_error(y_test, pred_rfr)))\n",
    "print('R2 Score:', r2_score(y_test,pred_rfr))"
   ]
  },
  {
   "cell_type": "code",
   "execution_count": 293,
   "metadata": {},
   "outputs": [
    {
     "name": "stderr",
     "output_type": "stream",
     "text": [
      "C:\\Users\\nikhi\\anaconda3\\lib\\site-packages\\seaborn\\distributions.py:2619: FutureWarning: `distplot` is a deprecated function and will be removed in a future version. Please adapt your code to use either `displot` (a figure-level function with similar flexibility) or `histplot` (an axes-level function for histograms).\n",
      "  warnings.warn(msg, FutureWarning)\n"
     ]
    },
    {
     "data": {
      "text/plain": [
       "<AxesSubplot:xlabel='Price', ylabel='Density'>"
      ]
     },
     "execution_count": 293,
     "metadata": {},
     "output_type": "execute_result"
    },
    {
     "data": {
      "image/png": "[encoded data removed]",
      "text/plain": [
       "<Figure size 864x432 with 1 Axes>"
      ]
     },
     "metadata": {},
     "output_type": "display_data"
    }
   ],
   "source": [
    "sns.distplot(y_test-pred_rfr, kde=True)"
   ]
  },
  {
   "cell_type": "code",
   "execution_count": 294,
   "metadata": {},
   "outputs": [
    {
     "data": {
      "text/plain": [
       "(array([16792.75      ,  5331.5       ,  8890.55      ,  3612.66      ,\n",
       "        12808.17      , 10169.07683333, 16022.25      ,  7236.87      ,\n",
       "         9805.07      , 16282.31      ,  3955.66      ]),\n",
       " 6075    16655\n",
       " 3544     4959\n",
       " 9291     9187\n",
       " 5032     3858\n",
       " 2483    12898\n",
       " 9894    10529\n",
       " 346     16079\n",
       " 6365     7229\n",
       " 7624    10844\n",
       " 3393    16289\n",
       " 5412     3943\n",
       " Name: Price, dtype: int64)"
      ]
     },
     "execution_count": 294,
     "metadata": {},
     "output_type": "execute_result"
    }
   ],
   "source": [
    "pred_rfr[:11], y_test[:11]"
   ]
  },
  {
   "cell_type": "code",
   "execution_count": 295,
   "metadata": {},
   "outputs": [],
   "source": [
    "df_predictions = pd.DataFrame({'Truth':y_test,'Pred_LR':pred_lr,'Pred_RFR':pred_rfr})\n",
    "df_predictions['LR_Residual'] = np.abs(df_predictions['Truth']-df_predictions['Pred_LR'])\n",
    "df_predictions['RFR_Residual'] = np.abs(df_predictions['Truth']-df_predictions['Pred_RFR'])\n",
    "df_predictions.reset_index(drop=True, inplace=True)"
   ]
  },
  {
   "cell_type": "code",
   "execution_count": 296,
   "metadata": {},
   "outputs": [
    {
     "data": {
      "text/html": [
       "<div>\n",
       "<style scoped>\n",
       "    .dataframe tbody tr th:only-of-type {\n",
       "        vertical-align: middle;\n",
       "    }\n",
       "\n",
       "    .dataframe tbody tr th {\n",
       "        vertical-align: top;\n",
       "    }\n",
       "\n",
       "    .dataframe thead th {\n",
       "        text-align: right;\n",
       "    }\n",
       "</style>\n",
       "<table border=\"1\" class=\"dataframe\">\n",
       "  <thead>\n",
       "    <tr style=\"text-align: right;\">\n",
       "      <th></th>\n",
       "      <th>Truth</th>\n",
       "      <th>Pred_LR</th>\n",
       "      <th>Pred_RFR</th>\n",
       "      <th>LR_Residual</th>\n",
       "      <th>RFR_Residual</th>\n",
       "    </tr>\n",
       "  </thead>\n",
       "  <tbody>\n",
       "    <tr>\n",
       "      <th>0</th>\n",
       "      <td>16655</td>\n",
       "      <td>12957.25</td>\n",
       "      <td>16792.750000</td>\n",
       "      <td>3697.75</td>\n",
       "      <td>137.750000</td>\n",
       "    </tr>\n",
       "    <tr>\n",
       "      <th>1</th>\n",
       "      <td>4959</td>\n",
       "      <td>7543.75</td>\n",
       "      <td>5331.500000</td>\n",
       "      <td>2584.75</td>\n",
       "      <td>372.500000</td>\n",
       "    </tr>\n",
       "    <tr>\n",
       "      <th>2</th>\n",
       "      <td>9187</td>\n",
       "      <td>9448.00</td>\n",
       "      <td>8890.550000</td>\n",
       "      <td>261.00</td>\n",
       "      <td>296.450000</td>\n",
       "    </tr>\n",
       "    <tr>\n",
       "      <th>3</th>\n",
       "      <td>3858</td>\n",
       "      <td>3739.75</td>\n",
       "      <td>3612.660000</td>\n",
       "      <td>118.25</td>\n",
       "      <td>245.340000</td>\n",
       "    </tr>\n",
       "    <tr>\n",
       "      <th>4</th>\n",
       "      <td>12898</td>\n",
       "      <td>9048.75</td>\n",
       "      <td>12808.170000</td>\n",
       "      <td>3849.25</td>\n",
       "      <td>89.830000</td>\n",
       "    </tr>\n",
       "    <tr>\n",
       "      <th>...</th>\n",
       "      <td>...</td>\n",
       "      <td>...</td>\n",
       "      <td>...</td>\n",
       "      <td>...</td>\n",
       "      <td>...</td>\n",
       "    </tr>\n",
       "    <tr>\n",
       "      <th>2132</th>\n",
       "      <td>7408</td>\n",
       "      <td>9840.75</td>\n",
       "      <td>12719.906667</td>\n",
       "      <td>2432.75</td>\n",
       "      <td>5311.906667</td>\n",
       "    </tr>\n",
       "    <tr>\n",
       "      <th>2133</th>\n",
       "      <td>4622</td>\n",
       "      <td>5440.25</td>\n",
       "      <td>4638.780000</td>\n",
       "      <td>818.25</td>\n",
       "      <td>16.780000</td>\n",
       "    </tr>\n",
       "    <tr>\n",
       "      <th>2134</th>\n",
       "      <td>7452</td>\n",
       "      <td>6847.25</td>\n",
       "      <td>6847.220000</td>\n",
       "      <td>604.75</td>\n",
       "      <td>604.780000</td>\n",
       "    </tr>\n",
       "    <tr>\n",
       "      <th>2135</th>\n",
       "      <td>8824</td>\n",
       "      <td>10060.00</td>\n",
       "      <td>9135.830000</td>\n",
       "      <td>1236.00</td>\n",
       "      <td>311.830000</td>\n",
       "    </tr>\n",
       "    <tr>\n",
       "      <th>2136</th>\n",
       "      <td>14151</td>\n",
       "      <td>13291.75</td>\n",
       "      <td>12325.130000</td>\n",
       "      <td>859.25</td>\n",
       "      <td>1825.870000</td>\n",
       "    </tr>\n",
       "  </tbody>\n",
       "</table>\n",
       "<p>2137 rows × 5 columns</p>\n",
       "</div>"
      ],
      "text/plain": [
       "      Truth   Pred_LR      Pred_RFR  LR_Residual  RFR_Residual\n",
       "0     16655  12957.25  16792.750000      3697.75    137.750000\n",
       "1      4959   7543.75   5331.500000      2584.75    372.500000\n",
       "2      9187   9448.00   8890.550000       261.00    296.450000\n",
       "3      3858   3739.75   3612.660000       118.25    245.340000\n",
       "4     12898   9048.75  12808.170000      3849.25     89.830000\n",
       "...     ...       ...           ...          ...           ...\n",
       "2132   7408   9840.75  12719.906667      2432.75   5311.906667\n",
       "2133   4622   5440.25   4638.780000       818.25     16.780000\n",
       "2134   7452   6847.25   6847.220000       604.75    604.780000\n",
       "2135   8824  10060.00   9135.830000      1236.00    311.830000\n",
       "2136  14151  13291.75  12325.130000       859.25   1825.870000\n",
       "\n",
       "[2137 rows x 5 columns]"
      ]
     },
     "execution_count": 296,
     "metadata": {},
     "output_type": "execute_result"
    }
   ],
   "source": [
    "df_predictions"
   ]
  },
  {
   "cell_type": "code",
   "execution_count": 1,
   "metadata": {},
   "outputs": [],
   "source": [
    "#df_predictions[df_predictions.LR_Residual < df_predictions.RFR_Residual].index.values"
   ]
  },
  {
   "cell_type": "code",
   "execution_count": 298,
   "metadata": {},
   "outputs": [
    {
     "data": {
      "text/html": [
       "<div>\n",
       "<style scoped>\n",
       "    .dataframe tbody tr th:only-of-type {\n",
       "        vertical-align: middle;\n",
       "    }\n",
       "\n",
       "    .dataframe tbody tr th {\n",
       "        vertical-align: top;\n",
       "    }\n",
       "\n",
       "    .dataframe thead th {\n",
       "        text-align: right;\n",
       "    }\n",
       "</style>\n",
       "<table border=\"1\" class=\"dataframe\">\n",
       "  <thead>\n",
       "    <tr style=\"text-align: right;\">\n",
       "      <th></th>\n",
       "      <th>Airline</th>\n",
       "      <th>Source</th>\n",
       "      <th>Destination</th>\n",
       "      <th>Total_Stops</th>\n",
       "      <th>Additional_Info</th>\n",
       "      <th>Monthday</th>\n",
       "      <th>wkday_sin</th>\n",
       "      <th>wkday_cos</th>\n",
       "      <th>mnth_sin</th>\n",
       "      <th>mnth_cos</th>\n",
       "      <th>Total_Duration_hrs</th>\n",
       "      <th>Arr_Time_hrs</th>\n",
       "      <th>Dep_Time_hrs</th>\n",
       "    </tr>\n",
       "  </thead>\n",
       "  <tbody>\n",
       "    <tr>\n",
       "      <th>9291</th>\n",
       "      <td>Vistara</td>\n",
       "      <td>Kolkata</td>\n",
       "      <td>Banglore</td>\n",
       "      <td>1</td>\n",
       "      <td>No Info</td>\n",
       "      <td>9</td>\n",
       "      <td>0.433884</td>\n",
       "      <td>-0.900969</td>\n",
       "      <td>0.866025</td>\n",
       "      <td>-5.000000e-01</td>\n",
       "      <td>12.75</td>\n",
       "      <td>9.08</td>\n",
       "      <td>20.33</td>\n",
       "    </tr>\n",
       "    <tr>\n",
       "      <th>5032</th>\n",
       "      <td>IndiGo</td>\n",
       "      <td>Chennai</td>\n",
       "      <td>Kolkata</td>\n",
       "      <td>0</td>\n",
       "      <td>No Info</td>\n",
       "      <td>24</td>\n",
       "      <td>-0.433884</td>\n",
       "      <td>-0.900969</td>\n",
       "      <td>0.866025</td>\n",
       "      <td>-5.000000e-01</td>\n",
       "      <td>2.33</td>\n",
       "      <td>17.08</td>\n",
       "      <td>14.75</td>\n",
       "    </tr>\n",
       "    <tr>\n",
       "      <th>9259</th>\n",
       "      <td>Jet Airways</td>\n",
       "      <td>Banglore</td>\n",
       "      <td>New Delhi</td>\n",
       "      <td>1</td>\n",
       "      <td>No Info</td>\n",
       "      <td>6</td>\n",
       "      <td>0.974928</td>\n",
       "      <td>-0.222521</td>\n",
       "      <td>0.866025</td>\n",
       "      <td>5.000000e-01</td>\n",
       "      <td>18.17</td>\n",
       "      <td>8.25</td>\n",
       "      <td>14.08</td>\n",
       "    </tr>\n",
       "    <tr>\n",
       "      <th>3422</th>\n",
       "      <td>Vistara</td>\n",
       "      <td>Banglore</td>\n",
       "      <td>New Delhi</td>\n",
       "      <td>0</td>\n",
       "      <td>No Info</td>\n",
       "      <td>24</td>\n",
       "      <td>-0.781831</td>\n",
       "      <td>0.623490</td>\n",
       "      <td>0.866025</td>\n",
       "      <td>5.000000e-01</td>\n",
       "      <td>2.67</td>\n",
       "      <td>14.67</td>\n",
       "      <td>12.00</td>\n",
       "    </tr>\n",
       "    <tr>\n",
       "      <th>2848</th>\n",
       "      <td>IndiGo</td>\n",
       "      <td>Delhi</td>\n",
       "      <td>Cochin</td>\n",
       "      <td>0</td>\n",
       "      <td>No Info</td>\n",
       "      <td>18</td>\n",
       "      <td>0.000000</td>\n",
       "      <td>1.000000</td>\n",
       "      <td>0.866025</td>\n",
       "      <td>5.000000e-01</td>\n",
       "      <td>3.08</td>\n",
       "      <td>17.58</td>\n",
       "      <td>14.50</td>\n",
       "    </tr>\n",
       "    <tr>\n",
       "      <th>...</th>\n",
       "      <td>...</td>\n",
       "      <td>...</td>\n",
       "      <td>...</td>\n",
       "      <td>...</td>\n",
       "      <td>...</td>\n",
       "      <td>...</td>\n",
       "      <td>...</td>\n",
       "      <td>...</td>\n",
       "      <td>...</td>\n",
       "      <td>...</td>\n",
       "      <td>...</td>\n",
       "      <td>...</td>\n",
       "      <td>...</td>\n",
       "    </tr>\n",
       "    <tr>\n",
       "      <th>4394</th>\n",
       "      <td>Jet Airways</td>\n",
       "      <td>Delhi</td>\n",
       "      <td>Cochin</td>\n",
       "      <td>1</td>\n",
       "      <td>In-flight meal not included</td>\n",
       "      <td>27</td>\n",
       "      <td>0.000000</td>\n",
       "      <td>1.000000</td>\n",
       "      <td>0.866025</td>\n",
       "      <td>-5.000000e-01</td>\n",
       "      <td>7.50</td>\n",
       "      <td>19.00</td>\n",
       "      <td>11.50</td>\n",
       "    </tr>\n",
       "    <tr>\n",
       "      <th>9680</th>\n",
       "      <td>Multiple carriers</td>\n",
       "      <td>Delhi</td>\n",
       "      <td>Cochin</td>\n",
       "      <td>1</td>\n",
       "      <td>No Info</td>\n",
       "      <td>15</td>\n",
       "      <td>-0.974928</td>\n",
       "      <td>-0.222521</td>\n",
       "      <td>0.500000</td>\n",
       "      <td>-8.660254e-01</td>\n",
       "      <td>13.00</td>\n",
       "      <td>21.00</td>\n",
       "      <td>8.00</td>\n",
       "    </tr>\n",
       "    <tr>\n",
       "      <th>9797</th>\n",
       "      <td>Multiple carriers</td>\n",
       "      <td>Delhi</td>\n",
       "      <td>Cochin</td>\n",
       "      <td>1</td>\n",
       "      <td>No Info</td>\n",
       "      <td>27</td>\n",
       "      <td>0.433884</td>\n",
       "      <td>-0.900969</td>\n",
       "      <td>0.500000</td>\n",
       "      <td>-8.660254e-01</td>\n",
       "      <td>13.00</td>\n",
       "      <td>21.00</td>\n",
       "      <td>8.00</td>\n",
       "    </tr>\n",
       "    <tr>\n",
       "      <th>10063</th>\n",
       "      <td>Air Asia</td>\n",
       "      <td>Delhi</td>\n",
       "      <td>Cochin</td>\n",
       "      <td>1</td>\n",
       "      <td>No Info</td>\n",
       "      <td>21</td>\n",
       "      <td>-0.781831</td>\n",
       "      <td>0.623490</td>\n",
       "      <td>1.000000</td>\n",
       "      <td>6.123234e-17</td>\n",
       "      <td>14.50</td>\n",
       "      <td>22.42</td>\n",
       "      <td>7.92</td>\n",
       "    </tr>\n",
       "    <tr>\n",
       "      <th>8617</th>\n",
       "      <td>Jet Airways</td>\n",
       "      <td>Kolkata</td>\n",
       "      <td>Banglore</td>\n",
       "      <td>1</td>\n",
       "      <td>No Info</td>\n",
       "      <td>6</td>\n",
       "      <td>0.433884</td>\n",
       "      <td>-0.900969</td>\n",
       "      <td>0.500000</td>\n",
       "      <td>-8.660254e-01</td>\n",
       "      <td>6.58</td>\n",
       "      <td>23.58</td>\n",
       "      <td>17.00</td>\n",
       "    </tr>\n",
       "  </tbody>\n",
       "</table>\n",
       "<p>377 rows × 13 columns</p>\n",
       "</div>"
      ],
      "text/plain": [
       "                 Airline    Source Destination  Total_Stops  \\\n",
       "9291             Vistara   Kolkata    Banglore            1   \n",
       "5032              IndiGo   Chennai     Kolkata            0   \n",
       "9259         Jet Airways  Banglore   New Delhi            1   \n",
       "3422             Vistara  Banglore   New Delhi            0   \n",
       "2848              IndiGo     Delhi      Cochin            0   \n",
       "...                  ...       ...         ...          ...   \n",
       "4394         Jet Airways     Delhi      Cochin            1   \n",
       "9680   Multiple carriers     Delhi      Cochin            1   \n",
       "9797   Multiple carriers     Delhi      Cochin            1   \n",
       "10063           Air Asia     Delhi      Cochin            1   \n",
       "8617         Jet Airways   Kolkata    Banglore            1   \n",
       "\n",
       "                   Additional_Info  Monthday  wkday_sin  wkday_cos  mnth_sin  \\\n",
       "9291                       No Info         9   0.433884  -0.900969  0.866025   \n",
       "5032                       No Info        24  -0.433884  -0.900969  0.866025   \n",
       "9259                       No Info         6   0.974928  -0.222521  0.866025   \n",
       "3422                       No Info        24  -0.781831   0.623490  0.866025   \n",
       "2848                       No Info        18   0.000000   1.000000  0.866025   \n",
       "...                            ...       ...        ...        ...       ...   \n",
       "4394   In-flight meal not included        27   0.000000   1.000000  0.866025   \n",
       "9680                       No Info        15  -0.974928  -0.222521  0.500000   \n",
       "9797                       No Info        27   0.433884  -0.900969  0.500000   \n",
       "10063                      No Info        21  -0.781831   0.623490  1.000000   \n",
       "8617                       No Info         6   0.433884  -0.900969  0.500000   \n",
       "\n",
       "           mnth_cos  Total_Duration_hrs  Arr_Time_hrs  Dep_Time_hrs  \n",
       "9291  -5.000000e-01               12.75          9.08         20.33  \n",
       "5032  -5.000000e-01                2.33         17.08         14.75  \n",
       "9259   5.000000e-01               18.17          8.25         14.08  \n",
       "3422   5.000000e-01                2.67         14.67         12.00  \n",
       "2848   5.000000e-01                3.08         17.58         14.50  \n",
       "...             ...                 ...           ...           ...  \n",
       "4394  -5.000000e-01                7.50         19.00         11.50  \n",
       "9680  -8.660254e-01               13.00         21.00          8.00  \n",
       "9797  -8.660254e-01               13.00         21.00          8.00  \n",
       "10063  6.123234e-17               14.50         22.42          7.92  \n",
       "8617  -8.660254e-01                6.58         23.58         17.00  \n",
       "\n",
       "[377 rows x 13 columns]"
      ]
     },
     "execution_count": 298,
     "metadata": {},
     "output_type": "execute_result"
    }
   ],
   "source": [
    "df_test.iloc[df_predictions[df_predictions.LR_Residual < df_predictions.RFR_Residual].index.values]"
   ]
  },
  {
   "cell_type": "code",
   "execution_count": 299,
   "metadata": {},
   "outputs": [
    {
     "data": {
      "text/html": [
       "<div>\n",
       "<style scoped>\n",
       "    .dataframe tbody tr th:only-of-type {\n",
       "        vertical-align: middle;\n",
       "    }\n",
       "\n",
       "    .dataframe tbody tr th {\n",
       "        vertical-align: top;\n",
       "    }\n",
       "\n",
       "    .dataframe thead th {\n",
       "        text-align: right;\n",
       "    }\n",
       "</style>\n",
       "<table border=\"1\" class=\"dataframe\">\n",
       "  <thead>\n",
       "    <tr style=\"text-align: right;\">\n",
       "      <th></th>\n",
       "      <th>Truth</th>\n",
       "      <th>Pred_LR</th>\n",
       "      <th>Pred_RFR</th>\n",
       "      <th>LR_Residual</th>\n",
       "      <th>RFR_Residual</th>\n",
       "    </tr>\n",
       "  </thead>\n",
       "  <tbody>\n",
       "    <tr>\n",
       "      <th>2</th>\n",
       "      <td>9187</td>\n",
       "      <td>9448.00</td>\n",
       "      <td>8890.550000</td>\n",
       "      <td>261.00</td>\n",
       "      <td>296.450000</td>\n",
       "    </tr>\n",
       "    <tr>\n",
       "      <th>3</th>\n",
       "      <td>3858</td>\n",
       "      <td>3739.75</td>\n",
       "      <td>3612.660000</td>\n",
       "      <td>118.25</td>\n",
       "      <td>245.340000</td>\n",
       "    </tr>\n",
       "    <tr>\n",
       "      <th>12</th>\n",
       "      <td>14815</td>\n",
       "      <td>15489.00</td>\n",
       "      <td>16631.240000</td>\n",
       "      <td>674.00</td>\n",
       "      <td>1816.240000</td>\n",
       "    </tr>\n",
       "    <tr>\n",
       "      <th>22</th>\n",
       "      <td>7608</td>\n",
       "      <td>8040.00</td>\n",
       "      <td>5377.265000</td>\n",
       "      <td>432.00</td>\n",
       "      <td>2230.735000</td>\n",
       "    </tr>\n",
       "    <tr>\n",
       "      <th>25</th>\n",
       "      <td>5406</td>\n",
       "      <td>5378.25</td>\n",
       "      <td>5637.010000</td>\n",
       "      <td>27.75</td>\n",
       "      <td>231.010000</td>\n",
       "    </tr>\n",
       "    <tr>\n",
       "      <th>...</th>\n",
       "      <td>...</td>\n",
       "      <td>...</td>\n",
       "      <td>...</td>\n",
       "      <td>...</td>\n",
       "      <td>...</td>\n",
       "    </tr>\n",
       "    <tr>\n",
       "      <th>2128</th>\n",
       "      <td>9732</td>\n",
       "      <td>8498.50</td>\n",
       "      <td>12625.060000</td>\n",
       "      <td>1233.50</td>\n",
       "      <td>2893.060000</td>\n",
       "    </tr>\n",
       "    <tr>\n",
       "      <th>2131</th>\n",
       "      <td>7408</td>\n",
       "      <td>10952.25</td>\n",
       "      <td>12012.448333</td>\n",
       "      <td>3544.25</td>\n",
       "      <td>4604.448333</td>\n",
       "    </tr>\n",
       "    <tr>\n",
       "      <th>2132</th>\n",
       "      <td>7408</td>\n",
       "      <td>9840.75</td>\n",
       "      <td>12719.906667</td>\n",
       "      <td>2432.75</td>\n",
       "      <td>5311.906667</td>\n",
       "    </tr>\n",
       "    <tr>\n",
       "      <th>2134</th>\n",
       "      <td>7452</td>\n",
       "      <td>6847.25</td>\n",
       "      <td>6847.220000</td>\n",
       "      <td>604.75</td>\n",
       "      <td>604.780000</td>\n",
       "    </tr>\n",
       "    <tr>\n",
       "      <th>2136</th>\n",
       "      <td>14151</td>\n",
       "      <td>13291.75</td>\n",
       "      <td>12325.130000</td>\n",
       "      <td>859.25</td>\n",
       "      <td>1825.870000</td>\n",
       "    </tr>\n",
       "  </tbody>\n",
       "</table>\n",
       "<p>377 rows × 5 columns</p>\n",
       "</div>"
      ],
      "text/plain": [
       "      Truth   Pred_LR      Pred_RFR  LR_Residual  RFR_Residual\n",
       "2      9187   9448.00   8890.550000       261.00    296.450000\n",
       "3      3858   3739.75   3612.660000       118.25    245.340000\n",
       "12    14815  15489.00  16631.240000       674.00   1816.240000\n",
       "22     7608   8040.00   5377.265000       432.00   2230.735000\n",
       "25     5406   5378.25   5637.010000        27.75    231.010000\n",
       "...     ...       ...           ...          ...           ...\n",
       "2128   9732   8498.50  12625.060000      1233.50   2893.060000\n",
       "2131   7408  10952.25  12012.448333      3544.25   4604.448333\n",
       "2132   7408   9840.75  12719.906667      2432.75   5311.906667\n",
       "2134   7452   6847.25   6847.220000       604.75    604.780000\n",
       "2136  14151  13291.75  12325.130000       859.25   1825.870000\n",
       "\n",
       "[377 rows x 5 columns]"
      ]
     },
     "execution_count": 299,
     "metadata": {},
     "output_type": "execute_result"
    }
   ],
   "source": [
    "df_predictions[df_predictions.LR_Residual < df_predictions.RFR_Residual]"
   ]
  },
  {
   "cell_type": "markdown",
   "metadata": {},
   "source": [
    "# Rough"
   ]
  },
  {
   "cell_type": "code",
   "execution_count": 300,
   "metadata": {},
   "outputs": [
    {
     "data": {
      "text/plain": [
       "((8545, 13), (8545,))"
      ]
     },
     "execution_count": 300,
     "metadata": {},
     "output_type": "execute_result"
    }
   ],
   "source": [
    "df_train.shape, y_train.shape"
   ]
  },
  {
   "cell_type": "code",
   "execution_count": 301,
   "metadata": {},
   "outputs": [
    {
     "data": {
      "text/plain": [
       "((2137, 13), (2137,))"
      ]
     },
     "execution_count": 301,
     "metadata": {},
     "output_type": "execute_result"
    }
   ],
   "source": [
    "df_test.shape, y_test.shape"
   ]
  },
  {
   "cell_type": "code",
   "execution_count": 302,
   "metadata": {},
   "outputs": [
    {
     "data": {
      "text/plain": [
       "Airline               0\n",
       "Source                0\n",
       "Destination           0\n",
       "Total_Stops           0\n",
       "Additional_Info       0\n",
       "Monthday              0\n",
       "wkday_sin             0\n",
       "wkday_cos             0\n",
       "mnth_sin              0\n",
       "mnth_cos              0\n",
       "Total_Duration_hrs    0\n",
       "Arr_Time_hrs          0\n",
       "Dep_Time_hrs          0\n",
       "dtype: int64"
      ]
     },
     "execution_count": 302,
     "metadata": {},
     "output_type": "execute_result"
    }
   ],
   "source": [
    "df_train.isna().sum()"
   ]
  },
  {
   "cell_type": "code",
   "execution_count": 303,
   "metadata": {},
   "outputs": [
    {
     "data": {
      "text/plain": [
       "Airline               0\n",
       "Source                0\n",
       "Destination           0\n",
       "Total_Stops           0\n",
       "Additional_Info       0\n",
       "Monthday              0\n",
       "wkday_sin             0\n",
       "wkday_cos             0\n",
       "mnth_sin              0\n",
       "mnth_cos              0\n",
       "Total_Duration_hrs    0\n",
       "Arr_Time_hrs          0\n",
       "Dep_Time_hrs          0\n",
       "dtype: int64"
      ]
     },
     "execution_count": 303,
     "metadata": {},
     "output_type": "execute_result"
    }
   ],
   "source": [
    "df_test.isna().sum()"
   ]
  },
  {
   "cell_type": "code",
   "execution_count": 304,
   "metadata": {},
   "outputs": [],
   "source": [
    "final_ind_var = pd.concat([df_train, df_test])\n",
    "final_tar_var = pd.concat([y_train, y_test])"
   ]
  },
  {
   "cell_type": "code",
   "execution_count": 305,
   "metadata": {},
   "outputs": [
    {
     "data": {
      "text/plain": [
       "Airline               0\n",
       "Source                0\n",
       "Destination           0\n",
       "Total_Stops           0\n",
       "Additional_Info       0\n",
       "Monthday              0\n",
       "wkday_sin             0\n",
       "wkday_cos             0\n",
       "mnth_sin              0\n",
       "mnth_cos              0\n",
       "Total_Duration_hrs    0\n",
       "Arr_Time_hrs          0\n",
       "Dep_Time_hrs          0\n",
       "dtype: int64"
      ]
     },
     "execution_count": 305,
     "metadata": {},
     "output_type": "execute_result"
    }
   ],
   "source": [
    "final_ind_var.isna().sum()"
   ]
  },
  {
   "cell_type": "code",
   "execution_count": 306,
   "metadata": {},
   "outputs": [],
   "source": [
    "p1 = transformer.fit_transform(final_ind_var)\n",
    "rnd_reg = RandomForestRegressor()"
   ]
  },
  {
   "cell_type": "code",
   "execution_count": 307,
   "metadata": {},
   "outputs": [
    {
     "data": {
      "text/plain": [
       "array([0.89671564, 0.88838464, 0.88712681, 0.88598368, 0.8996434 ])"
      ]
     },
     "execution_count": 307,
     "metadata": {},
     "output_type": "execute_result"
    }
   ],
   "source": [
    "from sklearn.model_selection import cross_val_score\n",
    "\n",
    "cross_val_score(rnd_reg, p1, final_tar_var, cv = 5)"
   ]
  },
  {
   "cell_type": "code",
   "execution_count": 308,
   "metadata": {},
   "outputs": [],
   "source": [
    "arr = cross_val_score(rnd_reg, p1, final_tar_var, cv = 7)"
   ]
  },
  {
   "cell_type": "code",
   "execution_count": 309,
   "metadata": {},
   "outputs": [
    {
     "data": {
      "text/plain": [
       "0.8924289790407391"
      ]
     },
     "execution_count": 309,
     "metadata": {},
     "output_type": "execute_result"
    }
   ],
   "source": [
    "arr.mean()"
   ]
  },
  {
   "cell_type": "code",
   "execution_count": 310,
   "metadata": {},
   "outputs": [],
   "source": [
    "# there is some issue woth OneHotEncoder, ColumnTransformer and cross_val_score working togther in a pipeline\n",
    "# https://github.com/feature-engine/feature_engine/issues/368#issuecomment-1026315846"
   ]
  },
  {
   "cell_type": "code",
   "execution_count": 311,
   "metadata": {},
   "outputs": [
    {
     "name": "stderr",
     "output_type": "stream",
     "text": [
      "C:\\Users\\nikhi\\anaconda3\\lib\\site-packages\\sklearn\\model_selection\\_validation.py:696: UserWarning: Scoring failed. The score on this train-test partition for these parameters will be set to nan. Details: \n",
      "Traceback (most recent call last):\n",
      "  File \"C:\\Users\\nikhi\\anaconda3\\lib\\site-packages\\sklearn\\model_selection\\_validation.py\", line 687, in _score\n",
      "    scores = scorer(estimator, X_test, y_test)\n",
      "  File \"C:\\Users\\nikhi\\anaconda3\\lib\\site-packages\\sklearn\\metrics\\_scorer.py\", line 90, in __call__\n",
      "    score = scorer(estimator, *args, **kwargs)\n",
      "  File \"C:\\Users\\nikhi\\anaconda3\\lib\\site-packages\\sklearn\\metrics\\_scorer.py\", line 397, in _passthrough_scorer\n",
      "    return estimator.score(*args, **kwargs)\n",
      "  File \"C:\\Users\\nikhi\\anaconda3\\lib\\site-packages\\sklearn\\utils\\metaestimators.py\", line 120, in <lambda>\n",
      "    out = lambda *args, **kwargs: self.fn(obj, *args, **kwargs)\n",
      "  File \"C:\\Users\\nikhi\\anaconda3\\lib\\site-packages\\sklearn\\pipeline.py\", line 618, in score\n",
      "    Xt = transform.transform(Xt)\n",
      "  File \"C:\\Users\\nikhi\\anaconda3\\lib\\site-packages\\sklearn\\compose\\_column_transformer.py\", line 564, in transform\n",
      "    Xs = self._fit_transform(X, None, _transform_one, fitted=True)\n",
      "  File \"C:\\Users\\nikhi\\anaconda3\\lib\\site-packages\\sklearn\\compose\\_column_transformer.py\", line 434, in _fit_transform\n",
      "    return Parallel(n_jobs=self.n_jobs)(\n",
      "  File \"C:\\Users\\nikhi\\anaconda3\\lib\\site-packages\\joblib\\parallel.py\", line 1043, in __call__\n",
      "    if self.dispatch_one_batch(iterator):\n",
      "  File \"C:\\Users\\nikhi\\anaconda3\\lib\\site-packages\\joblib\\parallel.py\", line 861, in dispatch_one_batch\n",
      "    self._dispatch(tasks)\n",
      "  File \"C:\\Users\\nikhi\\anaconda3\\lib\\site-packages\\joblib\\parallel.py\", line 779, in _dispatch\n",
      "    job = self._backend.apply_async(batch, callback=cb)\n",
      "  File \"C:\\Users\\nikhi\\anaconda3\\lib\\site-packages\\joblib\\_parallel_backends.py\", line 208, in apply_async\n",
      "    result = ImmediateResult(func)\n",
      "  File \"C:\\Users\\nikhi\\anaconda3\\lib\\site-packages\\joblib\\_parallel_backends.py\", line 572, in __init__\n",
      "    self.results = batch()\n",
      "  File \"C:\\Users\\nikhi\\anaconda3\\lib\\site-packages\\joblib\\parallel.py\", line 262, in __call__\n",
      "    return [func(*args, **kwargs)\n",
      "  File \"C:\\Users\\nikhi\\anaconda3\\lib\\site-packages\\joblib\\parallel.py\", line 262, in <listcomp>\n",
      "    return [func(*args, **kwargs)\n",
      "  File \"C:\\Users\\nikhi\\anaconda3\\lib\\site-packages\\sklearn\\utils\\fixes.py\", line 222, in __call__\n",
      "    return self.function(*args, **kwargs)\n",
      "  File \"C:\\Users\\nikhi\\anaconda3\\lib\\site-packages\\sklearn\\pipeline.py\", line 733, in _transform_one\n",
      "    res = transformer.transform(X)\n",
      "  File \"C:\\Users\\nikhi\\anaconda3\\lib\\site-packages\\sklearn\\preprocessing\\_encoders.py\", line 471, in transform\n",
      "    X_int, X_mask = self._transform(X, handle_unknown=self.handle_unknown,\n",
      "  File \"C:\\Users\\nikhi\\anaconda3\\lib\\site-packages\\sklearn\\preprocessing\\_encoders.py\", line 136, in _transform\n",
      "    raise ValueError(msg)\n",
      "ValueError: Found unknown categories ['Jet Airways Business'] in column 0 during transform\n",
      "\n",
      "  warnings.warn(\n"
     ]
    },
    {
     "data": {
      "text/plain": [
       "array([0.86430352, 0.85992558,        nan, 0.85586228, 0.85621391])"
      ]
     },
     "execution_count": 311,
     "metadata": {},
     "output_type": "execute_result"
    }
   ],
   "source": [
    "cross_val_score(pipe_rfr, df_test, y_test, cv=5)"
   ]
  },
  {
   "cell_type": "code",
   "execution_count": null,
   "metadata": {},
   "outputs": [],
   "source": []
  }
 ],
 "metadata": {
  "interpreter": {
   "hash": "5a03e6978a913b76a01264f69485476c06bb2afb04825931e6a903524ca57e27"
  },
  "kernelspec": {
   "display_name": "Python 3.9.7 ('base')",
   "language": "python",
   "name": "python3"
  },
  "language_info": {
   "codemirror_mode": {
    "name": "ipython",
    "version": 3
   },
   "file_extension": ".py",
   "mimetype": "text/x-python",
   "name": "python",
   "nbconvert_exporter": "python",
   "pygments_lexer": "ipython3",
   "version": "3.9.7"
  },
  "orig_nbformat": 4
 },
 "nbformat": 4,
 "nbformat_minor": 2
}
